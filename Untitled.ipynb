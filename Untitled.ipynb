{
 "cells": [
  {
   "cell_type": "code",
   "execution_count": 1,
   "id": "divine-astronomy",
   "metadata": {},
   "outputs": [
    {
     "name": "stdout",
     "output_type": "stream",
     "text": [
      "hi\n"
     ]
    }
   ],
   "source": [
    "from streamlit_folium import folium_static"
   ]
  },
  {
   "cell_type": "code",
   "execution_count": 34,
   "id": "uniform-tampa",
   "metadata": {},
   "outputs": [],
   "source": [
    "import pandas as pd"
   ]
  },
  {
   "cell_type": "code",
   "execution_count": 3,
   "id": "bright-python",
   "metadata": {},
   "outputs": [],
   "source": [
    "import os"
   ]
  },
  {
   "cell_type": "code",
   "execution_count": 27,
   "id": "sonic-arcade",
   "metadata": {},
   "outputs": [],
   "source": [
    "x = {\"a\":\"a1\", \"b\":\"b1\", \"c\":\"c1\", \"d\":\"d1\", \"e\":\"e1\"}"
   ]
  },
  {
   "cell_type": "code",
   "execution_count": 30,
   "id": "global-track",
   "metadata": {},
   "outputs": [],
   "source": [
    "t = "
   ]
  },
  {
   "cell_type": "code",
   "execution_count": 32,
   "id": "federal-compound",
   "metadata": {},
   "outputs": [
    {
     "data": {
      "text/plain": [
       "{'a': 'a1', 'c': 'c1'}"
      ]
     },
     "execution_count": 32,
     "metadata": {},
     "output_type": "execute_result"
    }
   ],
   "source": []
  },
  {
   "cell_type": "code",
   "execution_count": null,
   "id": "distinct-printing",
   "metadata": {},
   "outputs": [],
   "source": []
  },
  {
   "cell_type": "code",
   "execution_count": 35,
   "id": "interstate-hollow",
   "metadata": {},
   "outputs": [],
   "source": [
    "d = pd.DataFrame(x.items(), columns=[\"m\",\"n\"])"
   ]
  },
  {
   "cell_type": "code",
   "execution_count": 39,
   "id": "reflected-victim",
   "metadata": {},
   "outputs": [
    {
     "data": {
      "text/plain": [
       "False"
      ]
     },
     "execution_count": 39,
     "metadata": {},
     "output_type": "execute_result"
    }
   ],
   "source": [
    "\"a\" in d.columns"
   ]
  },
  {
   "cell_type": "code",
   "execution_count": 12,
   "id": "greater-brooklyn",
   "metadata": {},
   "outputs": [
    {
     "data": {
      "text/plain": [
       "'a'"
      ]
     },
     "execution_count": 12,
     "metadata": {},
     "output_type": "execute_result"
    }
   ],
   "source": [
    "d[d[\"n\"]==\"a1\"][\"m\"].iloc[0]"
   ]
  },
  {
   "cell_type": "code",
   "execution_count": 1,
   "id": "governing-jason",
   "metadata": {},
   "outputs": [],
   "source": [
    "import utils.authority_names"
   ]
  },
  {
   "cell_type": "code",
   "execution_count": 3,
   "id": "mechanical-winner",
   "metadata": {},
   "outputs": [
    {
     "data": {
      "text/plain": [
       "'BF'"
      ]
     },
     "execution_count": 3,
     "metadata": {},
     "output_type": "execute_result"
    }
   ],
   "source": [
    "utils.authority_names.reverse_search(\"Bedford\")"
   ]
  },
  {
   "cell_type": "code",
   "execution_count": 4,
   "id": "personal-blair",
   "metadata": {},
   "outputs": [],
   "source": [
    "authorities = [\n",
    "    \"Cambridgeshire, UK\",\n",
    "    \"City of Peterborough, UK\",\n",
    "    \"Norfolk, UK\",\n",
    "    \"Suffolk, UK\",\n",
    "    \"Essex, UK\",\n",
    "    \"Thurrock, UK\",\n",
    "    \"Hertfordshire, UK\",\n",
    "    \"Central Bedfordshire, UK\",\n",
    "    \"Bedford, UK\"\n",
    "]"
   ]
  },
  {
   "cell_type": "code",
   "execution_count": 5,
   "id": "hybrid-suffering",
   "metadata": {},
   "outputs": [],
   "source": []
  },
  {
   "cell_type": "code",
   "execution_count": 8,
   "id": "entire-martin",
   "metadata": {},
   "outputs": [
    {
     "name": "stdout",
     "output_type": "stream",
     "text": [
      "CB\n",
      "PE\n",
      "NK\n",
      "SK\n",
      "EX\n",
      "TU\n",
      "HD\n",
      "BK\n",
      "BF\n"
     ]
    }
   ],
   "source": [
    "a = {\"a\"}"
   ]
  },
  {
   "cell_type": "code",
   "execution_count": 11,
   "id": "enormous-indication",
   "metadata": {},
   "outputs": [
    {
     "data": {
      "text/html": [
       "<div>\n",
       "<style scoped>\n",
       "    .dataframe tbody tr th:only-of-type {\n",
       "        vertical-align: middle;\n",
       "    }\n",
       "\n",
       "    .dataframe tbody tr th {\n",
       "        vertical-align: top;\n",
       "    }\n",
       "\n",
       "    .dataframe thead th {\n",
       "        text-align: right;\n",
       "    }\n",
       "</style>\n",
       "<table border=\"1\" class=\"dataframe\">\n",
       "  <thead>\n",
       "    <tr style=\"text-align: right;\">\n",
       "      <th></th>\n",
       "      <th>trackid</th>\n",
       "      <th>latitude</th>\n",
       "      <th>longitude</th>\n",
       "    </tr>\n",
       "  </thead>\n",
       "  <tbody>\n",
       "    <tr>\n",
       "      <th>0</th>\n",
       "      <td>0</td>\n",
       "      <td>52.15715</td>\n",
       "      <td>0.17970</td>\n",
       "    </tr>\n",
       "    <tr>\n",
       "      <th>1</th>\n",
       "      <td>0</td>\n",
       "      <td>52.15736</td>\n",
       "      <td>0.18003</td>\n",
       "    </tr>\n",
       "    <tr>\n",
       "      <th>2</th>\n",
       "      <td>0</td>\n",
       "      <td>52.15750</td>\n",
       "      <td>0.18030</td>\n",
       "    </tr>\n",
       "    <tr>\n",
       "      <th>3</th>\n",
       "      <td>0</td>\n",
       "      <td>52.15758</td>\n",
       "      <td>0.18058</td>\n",
       "    </tr>\n",
       "    <tr>\n",
       "      <th>4</th>\n",
       "      <td>0</td>\n",
       "      <td>52.15763</td>\n",
       "      <td>0.18095</td>\n",
       "    </tr>\n",
       "    <tr>\n",
       "      <th>...</th>\n",
       "      <td>...</td>\n",
       "      <td>...</td>\n",
       "      <td>...</td>\n",
       "    </tr>\n",
       "    <tr>\n",
       "      <th>98164</th>\n",
       "      <td>4600</td>\n",
       "      <td>52.07892</td>\n",
       "      <td>-0.13297</td>\n",
       "    </tr>\n",
       "    <tr>\n",
       "      <th>98165</th>\n",
       "      <td>4600</td>\n",
       "      <td>52.07894</td>\n",
       "      <td>-0.13296</td>\n",
       "    </tr>\n",
       "    <tr>\n",
       "      <th>98166</th>\n",
       "      <td>4600</td>\n",
       "      <td>52.07896</td>\n",
       "      <td>-0.13296</td>\n",
       "    </tr>\n",
       "    <tr>\n",
       "      <th>98167</th>\n",
       "      <td>4600</td>\n",
       "      <td>52.07898</td>\n",
       "      <td>-0.13296</td>\n",
       "    </tr>\n",
       "    <tr>\n",
       "      <th>98168</th>\n",
       "      <td>4600</td>\n",
       "      <td>52.07952</td>\n",
       "      <td>-0.13340</td>\n",
       "    </tr>\n",
       "  </tbody>\n",
       "</table>\n",
       "<p>98169 rows × 3 columns</p>\n",
       "</div>"
      ],
      "text/plain": [
       "       trackid  latitude  longitude\n",
       "0            0  52.15715    0.17970\n",
       "1            0  52.15736    0.18003\n",
       "2            0  52.15750    0.18030\n",
       "3            0  52.15758    0.18058\n",
       "4            0  52.15763    0.18095\n",
       "...        ...       ...        ...\n",
       "98164     4600  52.07892   -0.13297\n",
       "98165     4600  52.07894   -0.13296\n",
       "98166     4600  52.07896   -0.13296\n",
       "98167     4600  52.07898   -0.13296\n",
       "98168     4600  52.07952   -0.13340\n",
       "\n",
       "[98169 rows x 3 columns]"
      ]
     },
     "execution_count": 11,
     "metadata": {},
     "output_type": "execute_result"
    }
   ],
   "source": [
    "pd.read_csv(\"data/row/row_raw.csv\")"
   ]
  },
  {
   "cell_type": "code",
   "execution_count": 1,
   "id": "bizarre-copper",
   "metadata": {},
   "outputs": [],
   "source": [
    "from utils import gpx_converter"
   ]
  },
  {
   "cell_type": "code",
   "execution_count": 2,
   "id": "certain-interim",
   "metadata": {},
   "outputs": [],
   "source": [
    "a = gpx_converter.Converter(input_file=\"data/row/row.gpx\").gpx_to_dataframe() "
   ]
  },
  {
   "cell_type": "code",
   "execution_count": 3,
   "id": "large-plate",
   "metadata": {},
   "outputs": [
    {
     "data": {
      "text/html": [
       "<div>\n",
       "<style scoped>\n",
       "    .dataframe tbody tr th:only-of-type {\n",
       "        vertical-align: middle;\n",
       "    }\n",
       "\n",
       "    .dataframe tbody tr th {\n",
       "        vertical-align: top;\n",
       "    }\n",
       "\n",
       "    .dataframe thead th {\n",
       "        text-align: right;\n",
       "    }\n",
       "</style>\n",
       "<table border=\"1\" class=\"dataframe\">\n",
       "  <thead>\n",
       "    <tr style=\"text-align: right;\">\n",
       "      <th></th>\n",
       "      <th>trackid</th>\n",
       "      <th>latitude</th>\n",
       "      <th>longitude</th>\n",
       "    </tr>\n",
       "  </thead>\n",
       "  <tbody>\n",
       "    <tr>\n",
       "      <th>0</th>\n",
       "      <td>0</td>\n",
       "      <td>52.15715</td>\n",
       "      <td>0.17970</td>\n",
       "    </tr>\n",
       "    <tr>\n",
       "      <th>1</th>\n",
       "      <td>0</td>\n",
       "      <td>52.15736</td>\n",
       "      <td>0.18003</td>\n",
       "    </tr>\n",
       "    <tr>\n",
       "      <th>2</th>\n",
       "      <td>0</td>\n",
       "      <td>52.15750</td>\n",
       "      <td>0.18030</td>\n",
       "    </tr>\n",
       "    <tr>\n",
       "      <th>3</th>\n",
       "      <td>0</td>\n",
       "      <td>52.15758</td>\n",
       "      <td>0.18058</td>\n",
       "    </tr>\n",
       "    <tr>\n",
       "      <th>4</th>\n",
       "      <td>0</td>\n",
       "      <td>52.15763</td>\n",
       "      <td>0.18095</td>\n",
       "    </tr>\n",
       "    <tr>\n",
       "      <th>...</th>\n",
       "      <td>...</td>\n",
       "      <td>...</td>\n",
       "      <td>...</td>\n",
       "    </tr>\n",
       "    <tr>\n",
       "      <th>98164</th>\n",
       "      <td>4600</td>\n",
       "      <td>52.07892</td>\n",
       "      <td>-0.13297</td>\n",
       "    </tr>\n",
       "    <tr>\n",
       "      <th>98165</th>\n",
       "      <td>4600</td>\n",
       "      <td>52.07894</td>\n",
       "      <td>-0.13296</td>\n",
       "    </tr>\n",
       "    <tr>\n",
       "      <th>98166</th>\n",
       "      <td>4600</td>\n",
       "      <td>52.07896</td>\n",
       "      <td>-0.13296</td>\n",
       "    </tr>\n",
       "    <tr>\n",
       "      <th>98167</th>\n",
       "      <td>4600</td>\n",
       "      <td>52.07898</td>\n",
       "      <td>-0.13296</td>\n",
       "    </tr>\n",
       "    <tr>\n",
       "      <th>98168</th>\n",
       "      <td>4600</td>\n",
       "      <td>52.07952</td>\n",
       "      <td>-0.13340</td>\n",
       "    </tr>\n",
       "  </tbody>\n",
       "</table>\n",
       "<p>98169 rows × 3 columns</p>\n",
       "</div>"
      ],
      "text/plain": [
       "       trackid  latitude  longitude\n",
       "0            0  52.15715    0.17970\n",
       "1            0  52.15736    0.18003\n",
       "2            0  52.15750    0.18030\n",
       "3            0  52.15758    0.18058\n",
       "4            0  52.15763    0.18095\n",
       "...        ...       ...        ...\n",
       "98164     4600  52.07892   -0.13297\n",
       "98165     4600  52.07894   -0.13296\n",
       "98166     4600  52.07896   -0.13296\n",
       "98167     4600  52.07898   -0.13296\n",
       "98168     4600  52.07952   -0.13340\n",
       "\n",
       "[98169 rows x 3 columns]"
      ]
     },
     "execution_count": 3,
     "metadata": {},
     "output_type": "execute_result"
    }
   ],
   "source": [
    "a"
   ]
  },
  {
   "cell_type": "code",
   "execution_count": 4,
   "id": "finished-folks",
   "metadata": {},
   "outputs": [],
   "source": [
    "a[\"trackid\"] += 2 * 1000000"
   ]
  },
  {
   "cell_type": "code",
   "execution_count": 5,
   "id": "settled-collaboration",
   "metadata": {},
   "outputs": [
    {
     "data": {
      "text/html": [
       "<div>\n",
       "<style scoped>\n",
       "    .dataframe tbody tr th:only-of-type {\n",
       "        vertical-align: middle;\n",
       "    }\n",
       "\n",
       "    .dataframe tbody tr th {\n",
       "        vertical-align: top;\n",
       "    }\n",
       "\n",
       "    .dataframe thead th {\n",
       "        text-align: right;\n",
       "    }\n",
       "</style>\n",
       "<table border=\"1\" class=\"dataframe\">\n",
       "  <thead>\n",
       "    <tr style=\"text-align: right;\">\n",
       "      <th></th>\n",
       "      <th>trackid</th>\n",
       "      <th>latitude</th>\n",
       "      <th>longitude</th>\n",
       "    </tr>\n",
       "  </thead>\n",
       "  <tbody>\n",
       "    <tr>\n",
       "      <th>0</th>\n",
       "      <td>2000000</td>\n",
       "      <td>52.15715</td>\n",
       "      <td>0.17970</td>\n",
       "    </tr>\n",
       "    <tr>\n",
       "      <th>1</th>\n",
       "      <td>2000000</td>\n",
       "      <td>52.15736</td>\n",
       "      <td>0.18003</td>\n",
       "    </tr>\n",
       "    <tr>\n",
       "      <th>2</th>\n",
       "      <td>2000000</td>\n",
       "      <td>52.15750</td>\n",
       "      <td>0.18030</td>\n",
       "    </tr>\n",
       "    <tr>\n",
       "      <th>3</th>\n",
       "      <td>2000000</td>\n",
       "      <td>52.15758</td>\n",
       "      <td>0.18058</td>\n",
       "    </tr>\n",
       "    <tr>\n",
       "      <th>4</th>\n",
       "      <td>2000000</td>\n",
       "      <td>52.15763</td>\n",
       "      <td>0.18095</td>\n",
       "    </tr>\n",
       "    <tr>\n",
       "      <th>...</th>\n",
       "      <td>...</td>\n",
       "      <td>...</td>\n",
       "      <td>...</td>\n",
       "    </tr>\n",
       "    <tr>\n",
       "      <th>98164</th>\n",
       "      <td>2004600</td>\n",
       "      <td>52.07892</td>\n",
       "      <td>-0.13297</td>\n",
       "    </tr>\n",
       "    <tr>\n",
       "      <th>98165</th>\n",
       "      <td>2004600</td>\n",
       "      <td>52.07894</td>\n",
       "      <td>-0.13296</td>\n",
       "    </tr>\n",
       "    <tr>\n",
       "      <th>98166</th>\n",
       "      <td>2004600</td>\n",
       "      <td>52.07896</td>\n",
       "      <td>-0.13296</td>\n",
       "    </tr>\n",
       "    <tr>\n",
       "      <th>98167</th>\n",
       "      <td>2004600</td>\n",
       "      <td>52.07898</td>\n",
       "      <td>-0.13296</td>\n",
       "    </tr>\n",
       "    <tr>\n",
       "      <th>98168</th>\n",
       "      <td>2004600</td>\n",
       "      <td>52.07952</td>\n",
       "      <td>-0.13340</td>\n",
       "    </tr>\n",
       "  </tbody>\n",
       "</table>\n",
       "<p>98169 rows × 3 columns</p>\n",
       "</div>"
      ],
      "text/plain": [
       "       trackid  latitude  longitude\n",
       "0      2000000  52.15715    0.17970\n",
       "1      2000000  52.15736    0.18003\n",
       "2      2000000  52.15750    0.18030\n",
       "3      2000000  52.15758    0.18058\n",
       "4      2000000  52.15763    0.18095\n",
       "...        ...       ...        ...\n",
       "98164  2004600  52.07892   -0.13297\n",
       "98165  2004600  52.07894   -0.13296\n",
       "98166  2004600  52.07896   -0.13296\n",
       "98167  2004600  52.07898   -0.13296\n",
       "98168  2004600  52.07952   -0.13340\n",
       "\n",
       "[98169 rows x 3 columns]"
      ]
     },
     "execution_count": 5,
     "metadata": {},
     "output_type": "execute_result"
    }
   ],
   "source": [
    "a"
   ]
  },
  {
   "cell_type": "code",
   "execution_count": 1,
   "id": "featured-moderator",
   "metadata": {},
   "outputs": [],
   "source": [
    "import osmnx as ox"
   ]
  },
  {
   "cell_type": "code",
   "execution_count": 2,
   "id": "civilian-guidance",
   "metadata": {},
   "outputs": [
    {
     "ename": "FileNotFoundError",
     "evalue": "[Errno 2] No such file or directory: 'as'",
     "output_type": "error",
     "traceback": [
      "\u001b[1;31m---------------------------------------------------------------------------\u001b[0m",
      "\u001b[1;31mFileNotFoundError\u001b[0m                         Traceback (most recent call last)",
      "\u001b[1;32m<ipython-input-2-2f95b63e1fb0>\u001b[0m in \u001b[0;36m<module>\u001b[1;34m\u001b[0m\n\u001b[1;32m----> 1\u001b[1;33m \u001b[0mox\u001b[0m\u001b[1;33m.\u001b[0m\u001b[0mload_graphml\u001b[0m\u001b[1;33m(\u001b[0m\u001b[1;34m\"as\"\u001b[0m\u001b[1;33m)\u001b[0m\u001b[1;33m\u001b[0m\u001b[1;33m\u001b[0m\u001b[0m\n\u001b[0m",
      "\u001b[1;32mc:\\users\\andre\\appdata\\local\\programs\\python\\python38\\lib\\site-packages\\osmnx\\io.py\u001b[0m in \u001b[0;36mload_graphml\u001b[1;34m(filepath, graphml_str, node_dtypes, edge_dtypes, graph_dtypes)\u001b[0m\n\u001b[0;32m    249\u001b[0m         \u001b[1;31m# read the graphml file from disk\u001b[0m\u001b[1;33m\u001b[0m\u001b[1;33m\u001b[0m\u001b[1;33m\u001b[0m\u001b[0m\n\u001b[0;32m    250\u001b[0m         \u001b[0msource\u001b[0m \u001b[1;33m=\u001b[0m \u001b[0mfilepath\u001b[0m\u001b[1;33m\u001b[0m\u001b[1;33m\u001b[0m\u001b[0m\n\u001b[1;32m--> 251\u001b[1;33m         G = nx.read_graphml(\n\u001b[0m\u001b[0;32m    252\u001b[0m             \u001b[0mPath\u001b[0m\u001b[1;33m(\u001b[0m\u001b[0mfilepath\u001b[0m\u001b[1;33m)\u001b[0m\u001b[1;33m,\u001b[0m \u001b[0mnode_type\u001b[0m\u001b[1;33m=\u001b[0m\u001b[0mdefault_node_dtypes\u001b[0m\u001b[1;33m[\u001b[0m\u001b[1;34m\"osmid\"\u001b[0m\u001b[1;33m]\u001b[0m\u001b[1;33m,\u001b[0m \u001b[0mforce_multigraph\u001b[0m\u001b[1;33m=\u001b[0m\u001b[1;32mTrue\u001b[0m\u001b[1;33m\u001b[0m\u001b[1;33m\u001b[0m\u001b[0m\n\u001b[0;32m    253\u001b[0m         )\n",
      "\u001b[1;32mc:\\users\\andre\\appdata\\local\\programs\\python\\python38\\lib\\site-packages\\networkx\\utils\\decorators.py\u001b[0m in \u001b[0;36mfunc\u001b[1;34m(_argmap__wrapper, *args, **kwargs)\u001b[0m\n\u001b[0;32m    841\u001b[0m \u001b[1;33m\u001b[0m\u001b[0m\n\u001b[0;32m    842\u001b[0m         \u001b[1;32mdef\u001b[0m \u001b[0mfunc\u001b[0m\u001b[1;33m(\u001b[0m\u001b[1;33m*\u001b[0m\u001b[0margs\u001b[0m\u001b[1;33m,\u001b[0m \u001b[0m__wrapper\u001b[0m\u001b[1;33m=\u001b[0m\u001b[1;32mNone\u001b[0m\u001b[1;33m,\u001b[0m \u001b[1;33m**\u001b[0m\u001b[0mkwargs\u001b[0m\u001b[1;33m)\u001b[0m\u001b[1;33m:\u001b[0m\u001b[1;33m\u001b[0m\u001b[1;33m\u001b[0m\u001b[0m\n\u001b[1;32m--> 843\u001b[1;33m             \u001b[1;32mreturn\u001b[0m \u001b[0margmap\u001b[0m\u001b[1;33m.\u001b[0m\u001b[0m_lazy_compile\u001b[0m\u001b[1;33m(\u001b[0m\u001b[0m__wrapper\u001b[0m\u001b[1;33m)\u001b[0m\u001b[1;33m(\u001b[0m\u001b[1;33m*\u001b[0m\u001b[0margs\u001b[0m\u001b[1;33m,\u001b[0m \u001b[1;33m**\u001b[0m\u001b[0mkwargs\u001b[0m\u001b[1;33m)\u001b[0m\u001b[1;33m\u001b[0m\u001b[1;33m\u001b[0m\u001b[0m\n\u001b[0m\u001b[0;32m    844\u001b[0m \u001b[1;33m\u001b[0m\u001b[0m\n\u001b[0;32m    845\u001b[0m         \u001b[1;31m# standard function-wrapping stuff\u001b[0m\u001b[1;33m\u001b[0m\u001b[1;33m\u001b[0m\u001b[1;33m\u001b[0m\u001b[0m\n",
      "\u001b[1;32mc:\\users\\andre\\appdata\\local\\programs\\python\\python38\\lib\\site-packages\\networkx\\utils\\decorators.py\u001b[0m in \u001b[0;36margmap_read_graphml_1\u001b[1;34m(path, node_type, edge_key_type, force_multigraph)\u001b[0m\n\u001b[0;32m      1\u001b[0m \u001b[1;32mfrom\u001b[0m \u001b[0mcollections\u001b[0m \u001b[1;32mimport\u001b[0m \u001b[0mdefaultdict\u001b[0m\u001b[1;33m\u001b[0m\u001b[1;33m\u001b[0m\u001b[0m\n\u001b[0;32m      2\u001b[0m \u001b[1;32mfrom\u001b[0m \u001b[0mos\u001b[0m\u001b[1;33m.\u001b[0m\u001b[0mpath\u001b[0m \u001b[1;32mimport\u001b[0m \u001b[0msplitext\u001b[0m\u001b[1;33m\u001b[0m\u001b[1;33m\u001b[0m\u001b[0m\n\u001b[1;32m----> 3\u001b[1;33m \u001b[1;32mfrom\u001b[0m \u001b[0mcontextlib\u001b[0m \u001b[1;32mimport\u001b[0m \u001b[0mcontextmanager\u001b[0m\u001b[1;33m\u001b[0m\u001b[1;33m\u001b[0m\u001b[0m\n\u001b[0m\u001b[0;32m      4\u001b[0m \u001b[1;32mfrom\u001b[0m \u001b[0mpathlib\u001b[0m \u001b[1;32mimport\u001b[0m \u001b[0mPath\u001b[0m\u001b[1;33m\u001b[0m\u001b[1;33m\u001b[0m\u001b[0m\n\u001b[0;32m      5\u001b[0m \u001b[1;33m\u001b[0m\u001b[0m\n",
      "\u001b[1;32mc:\\users\\andre\\appdata\\local\\programs\\python\\python38\\lib\\site-packages\\networkx\\utils\\decorators.py\u001b[0m in \u001b[0;36m_open_file\u001b[1;34m(path)\u001b[0m\n\u001b[0;32m    187\u001b[0m             \u001b[1;32mreturn\u001b[0m \u001b[0mpath\u001b[0m\u001b[1;33m,\u001b[0m \u001b[1;32mlambda\u001b[0m\u001b[1;33m:\u001b[0m \u001b[1;32mNone\u001b[0m\u001b[1;33m\u001b[0m\u001b[1;33m\u001b[0m\u001b[0m\n\u001b[0;32m    188\u001b[0m \u001b[1;33m\u001b[0m\u001b[0m\n\u001b[1;32m--> 189\u001b[1;33m         \u001b[0mfobj\u001b[0m \u001b[1;33m=\u001b[0m \u001b[0m_dispatch_dict\u001b[0m\u001b[1;33m[\u001b[0m\u001b[0mext\u001b[0m\u001b[1;33m]\u001b[0m\u001b[1;33m(\u001b[0m\u001b[0mpath\u001b[0m\u001b[1;33m,\u001b[0m \u001b[0mmode\u001b[0m\u001b[1;33m=\u001b[0m\u001b[0mmode\u001b[0m\u001b[1;33m)\u001b[0m\u001b[1;33m\u001b[0m\u001b[1;33m\u001b[0m\u001b[0m\n\u001b[0m\u001b[0;32m    190\u001b[0m         \u001b[1;32mreturn\u001b[0m \u001b[0mfobj\u001b[0m\u001b[1;33m,\u001b[0m \u001b[1;32mlambda\u001b[0m\u001b[1;33m:\u001b[0m \u001b[0mfobj\u001b[0m\u001b[1;33m.\u001b[0m\u001b[0mclose\u001b[0m\u001b[1;33m(\u001b[0m\u001b[1;33m)\u001b[0m\u001b[1;33m\u001b[0m\u001b[1;33m\u001b[0m\u001b[0m\n\u001b[0;32m    191\u001b[0m \u001b[1;33m\u001b[0m\u001b[0m\n",
      "\u001b[1;31mFileNotFoundError\u001b[0m: [Errno 2] No such file or directory: 'as'"
     ]
    }
   ],
   "source": [
    "ox.load_graphml(\"as\")"
   ]
  },
  {
   "cell_type": "code",
   "execution_count": 3,
   "id": "dense-vehicle",
   "metadata": {},
   "outputs": [],
   "source": [
    "import networkx as nx"
   ]
  },
  {
   "cell_type": "code",
   "execution_count": 19,
   "id": "british-watson",
   "metadata": {},
   "outputs": [],
   "source": [
    "ox.save_graphml(nx.MultiGraph(), \"temp.graphml\")"
   ]
  },
  {
   "cell_type": "code",
   "execution_count": 20,
   "id": "olympic-birthday",
   "metadata": {},
   "outputs": [],
   "source": [
    "a = ox.load_graphml(\"temp.graphml\")"
   ]
  },
  {
   "cell_type": "code",
   "execution_count": 21,
   "id": "banned-hypothesis",
   "metadata": {},
   "outputs": [
    {
     "data": {
      "text/plain": [
       "<networkx.classes.multidigraph.MultiDiGraph at 0x2222eb3d550>"
      ]
     },
     "execution_count": 21,
     "metadata": {},
     "output_type": "execute_result"
    }
   ],
   "source": [
    "a"
   ]
  },
  {
   "cell_type": "code",
   "execution_count": 22,
   "id": "fifteen-gauge",
   "metadata": {},
   "outputs": [
    {
     "data": {
      "text/plain": [
       "True"
      ]
     },
     "execution_count": 22,
     "metadata": {},
     "output_type": "execute_result"
    }
   ],
   "source": [
    "nx.is_empty(a)"
   ]
  },
  {
   "cell_type": "code",
   "execution_count": 25,
   "id": "minor-monaco",
   "metadata": {},
   "outputs": [
    {
     "name": "stdout",
     "output_type": "stream",
     "text": [
      "Wall time: 214 ms\n"
     ]
    }
   ],
   "source": [
    "%%time\n",
    "a = ox.load_graphml(\"data/osmnx/east-of-england_0.graphml\")"
   ]
  },
  {
   "cell_type": "code",
   "execution_count": 26,
   "id": "understood-comedy",
   "metadata": {},
   "outputs": [],
   "source": [
    "graph_nodes, graph_edges = ox.graph_to_gdfs(a, nodes=True, edges=True)"
   ]
  },
  {
   "cell_type": "code",
   "execution_count": null,
   "id": "becoming-chick",
   "metadata": {},
   "outputs": [],
   "source": []
  }
 ],
 "metadata": {
  "kernelspec": {
   "display_name": "Python 3",
   "language": "python",
   "name": "python3"
  },
  "language_info": {
   "codemirror_mode": {
    "name": "ipython",
    "version": 3
   },
   "file_extension": ".py",
   "mimetype": "text/x-python",
   "name": "python",
   "nbconvert_exporter": "python",
   "pygments_lexer": "ipython3",
   "version": "3.8.7"
  }
 },
 "nbformat": 4,
 "nbformat_minor": 5
}
