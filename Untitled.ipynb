{
 "cells": [
  {
   "cell_type": "code",
   "execution_count": 10,
   "id": "intended-convenience",
   "metadata": {},
   "outputs": [],
   "source": [
    "import pandas as pd"
   ]
  },
  {
   "cell_type": "code",
   "execution_count": 3,
   "id": "north-sport",
   "metadata": {},
   "outputs": [],
   "source": [
    "import os"
   ]
  },
  {
   "cell_type": "code",
   "execution_count": 6,
   "id": "mathematical-substitute",
   "metadata": {},
   "outputs": [],
   "source": [
    "x = {\"a\":\"a1\", \"b\":\"b1\", \"c\":\"c1\", \"d\":\"d1\", \"e\":\"e1\"}"
   ]
  },
  {
   "cell_type": "code",
   "execution_count": 7,
   "id": "awful-trail",
   "metadata": {},
   "outputs": [],
   "source": [
    "d = pd.DataFrame(x.items(), columns=[\"m\",\"n\"])"
   ]
  },
  {
   "cell_type": "code",
   "execution_count": 12,
   "id": "bound-still",
   "metadata": {},
   "outputs": [
    {
     "data": {
      "text/plain": [
       "'a'"
      ]
     },
     "execution_count": 12,
     "metadata": {},
     "output_type": "execute_result"
    }
   ],
   "source": [
    "d[d[\"n\"]==\"a1\"][\"m\"].iloc[0]"
   ]
  },
  {
   "cell_type": "code",
   "execution_count": 1,
   "id": "improved-prime",
   "metadata": {},
   "outputs": [],
   "source": [
    "import utils.authority_names"
   ]
  },
  {
   "cell_type": "code",
   "execution_count": 3,
   "id": "comparative-light",
   "metadata": {},
   "outputs": [
    {
     "data": {
      "text/plain": [
       "'BF'"
      ]
     },
     "execution_count": 3,
     "metadata": {},
     "output_type": "execute_result"
    }
   ],
   "source": [
    "utils.authority_names.reverse_search(\"Bedford\")"
   ]
  },
  {
   "cell_type": "code",
   "execution_count": 4,
   "id": "sunset-relay",
   "metadata": {},
   "outputs": [],
   "source": [
    "authorities = [\n",
    "    \"Cambridgeshire, UK\",\n",
    "    \"City of Peterborough, UK\",\n",
    "    \"Norfolk, UK\",\n",
    "    \"Suffolk, UK\",\n",
    "    \"Essex, UK\",\n",
    "    \"Thurrock, UK\",\n",
    "    \"Hertfordshire, UK\",\n",
    "    \"Central Bedfordshire, UK\",\n",
    "    \"Bedford, UK\"\n",
    "]"
   ]
  },
  {
   "cell_type": "code",
   "execution_count": 5,
   "id": "chronic-armstrong",
   "metadata": {},
   "outputs": [],
   "source": []
  },
  {
   "cell_type": "code",
   "execution_count": 8,
   "id": "unlimited-startup",
   "metadata": {},
   "outputs": [
    {
     "name": "stdout",
     "output_type": "stream",
     "text": [
      "CB\n",
      "PE\n",
      "NK\n",
      "SK\n",
      "EX\n",
      "TU\n",
      "HD\n",
      "BK\n",
      "BF\n"
     ]
    }
   ],
   "source": []
  },
  {
   "cell_type": "code",
   "execution_count": 11,
   "id": "professional-teacher",
   "metadata": {},
   "outputs": [
    {
     "data": {
      "text/html": [
       "<div>\n",
       "<style scoped>\n",
       "    .dataframe tbody tr th:only-of-type {\n",
       "        vertical-align: middle;\n",
       "    }\n",
       "\n",
       "    .dataframe tbody tr th {\n",
       "        vertical-align: top;\n",
       "    }\n",
       "\n",
       "    .dataframe thead th {\n",
       "        text-align: right;\n",
       "    }\n",
       "</style>\n",
       "<table border=\"1\" class=\"dataframe\">\n",
       "  <thead>\n",
       "    <tr style=\"text-align: right;\">\n",
       "      <th></th>\n",
       "      <th>trackid</th>\n",
       "      <th>latitude</th>\n",
       "      <th>longitude</th>\n",
       "    </tr>\n",
       "  </thead>\n",
       "  <tbody>\n",
       "    <tr>\n",
       "      <th>0</th>\n",
       "      <td>0</td>\n",
       "      <td>52.15715</td>\n",
       "      <td>0.17970</td>\n",
       "    </tr>\n",
       "    <tr>\n",
       "      <th>1</th>\n",
       "      <td>0</td>\n",
       "      <td>52.15736</td>\n",
       "      <td>0.18003</td>\n",
       "    </tr>\n",
       "    <tr>\n",
       "      <th>2</th>\n",
       "      <td>0</td>\n",
       "      <td>52.15750</td>\n",
       "      <td>0.18030</td>\n",
       "    </tr>\n",
       "    <tr>\n",
       "      <th>3</th>\n",
       "      <td>0</td>\n",
       "      <td>52.15758</td>\n",
       "      <td>0.18058</td>\n",
       "    </tr>\n",
       "    <tr>\n",
       "      <th>4</th>\n",
       "      <td>0</td>\n",
       "      <td>52.15763</td>\n",
       "      <td>0.18095</td>\n",
       "    </tr>\n",
       "    <tr>\n",
       "      <th>...</th>\n",
       "      <td>...</td>\n",
       "      <td>...</td>\n",
       "      <td>...</td>\n",
       "    </tr>\n",
       "    <tr>\n",
       "      <th>98164</th>\n",
       "      <td>4600</td>\n",
       "      <td>52.07892</td>\n",
       "      <td>-0.13297</td>\n",
       "    </tr>\n",
       "    <tr>\n",
       "      <th>98165</th>\n",
       "      <td>4600</td>\n",
       "      <td>52.07894</td>\n",
       "      <td>-0.13296</td>\n",
       "    </tr>\n",
       "    <tr>\n",
       "      <th>98166</th>\n",
       "      <td>4600</td>\n",
       "      <td>52.07896</td>\n",
       "      <td>-0.13296</td>\n",
       "    </tr>\n",
       "    <tr>\n",
       "      <th>98167</th>\n",
       "      <td>4600</td>\n",
       "      <td>52.07898</td>\n",
       "      <td>-0.13296</td>\n",
       "    </tr>\n",
       "    <tr>\n",
       "      <th>98168</th>\n",
       "      <td>4600</td>\n",
       "      <td>52.07952</td>\n",
       "      <td>-0.13340</td>\n",
       "    </tr>\n",
       "  </tbody>\n",
       "</table>\n",
       "<p>98169 rows × 3 columns</p>\n",
       "</div>"
      ],
      "text/plain": [
       "       trackid  latitude  longitude\n",
       "0            0  52.15715    0.17970\n",
       "1            0  52.15736    0.18003\n",
       "2            0  52.15750    0.18030\n",
       "3            0  52.15758    0.18058\n",
       "4            0  52.15763    0.18095\n",
       "...        ...       ...        ...\n",
       "98164     4600  52.07892   -0.13297\n",
       "98165     4600  52.07894   -0.13296\n",
       "98166     4600  52.07896   -0.13296\n",
       "98167     4600  52.07898   -0.13296\n",
       "98168     4600  52.07952   -0.13340\n",
       "\n",
       "[98169 rows x 3 columns]"
      ]
     },
     "execution_count": 11,
     "metadata": {},
     "output_type": "execute_result"
    }
   ],
   "source": [
    "pd.read_csv(\"data/row/row_raw.csv\")"
   ]
  },
  {
   "cell_type": "code",
   "execution_count": 1,
   "id": "individual-volume",
   "metadata": {},
   "outputs": [],
   "source": [
    "from utils import gpx_converter"
   ]
  },
  {
   "cell_type": "code",
   "execution_count": 2,
   "id": "northern-british",
   "metadata": {},
   "outputs": [],
   "source": [
    "a = gpx_converter.Converter(input_file=\"data/row/row.gpx\").gpx_to_dataframe() "
   ]
  },
  {
   "cell_type": "code",
   "execution_count": 3,
   "id": "pharmaceutical-barbados",
   "metadata": {},
   "outputs": [
    {
     "data": {
      "text/html": [
       "<div>\n",
       "<style scoped>\n",
       "    .dataframe tbody tr th:only-of-type {\n",
       "        vertical-align: middle;\n",
       "    }\n",
       "\n",
       "    .dataframe tbody tr th {\n",
       "        vertical-align: top;\n",
       "    }\n",
       "\n",
       "    .dataframe thead th {\n",
       "        text-align: right;\n",
       "    }\n",
       "</style>\n",
       "<table border=\"1\" class=\"dataframe\">\n",
       "  <thead>\n",
       "    <tr style=\"text-align: right;\">\n",
       "      <th></th>\n",
       "      <th>trackid</th>\n",
       "      <th>latitude</th>\n",
       "      <th>longitude</th>\n",
       "    </tr>\n",
       "  </thead>\n",
       "  <tbody>\n",
       "    <tr>\n",
       "      <th>0</th>\n",
       "      <td>0</td>\n",
       "      <td>52.15715</td>\n",
       "      <td>0.17970</td>\n",
       "    </tr>\n",
       "    <tr>\n",
       "      <th>1</th>\n",
       "      <td>0</td>\n",
       "      <td>52.15736</td>\n",
       "      <td>0.18003</td>\n",
       "    </tr>\n",
       "    <tr>\n",
       "      <th>2</th>\n",
       "      <td>0</td>\n",
       "      <td>52.15750</td>\n",
       "      <td>0.18030</td>\n",
       "    </tr>\n",
       "    <tr>\n",
       "      <th>3</th>\n",
       "      <td>0</td>\n",
       "      <td>52.15758</td>\n",
       "      <td>0.18058</td>\n",
       "    </tr>\n",
       "    <tr>\n",
       "      <th>4</th>\n",
       "      <td>0</td>\n",
       "      <td>52.15763</td>\n",
       "      <td>0.18095</td>\n",
       "    </tr>\n",
       "    <tr>\n",
       "      <th>...</th>\n",
       "      <td>...</td>\n",
       "      <td>...</td>\n",
       "      <td>...</td>\n",
       "    </tr>\n",
       "    <tr>\n",
       "      <th>98164</th>\n",
       "      <td>4600</td>\n",
       "      <td>52.07892</td>\n",
       "      <td>-0.13297</td>\n",
       "    </tr>\n",
       "    <tr>\n",
       "      <th>98165</th>\n",
       "      <td>4600</td>\n",
       "      <td>52.07894</td>\n",
       "      <td>-0.13296</td>\n",
       "    </tr>\n",
       "    <tr>\n",
       "      <th>98166</th>\n",
       "      <td>4600</td>\n",
       "      <td>52.07896</td>\n",
       "      <td>-0.13296</td>\n",
       "    </tr>\n",
       "    <tr>\n",
       "      <th>98167</th>\n",
       "      <td>4600</td>\n",
       "      <td>52.07898</td>\n",
       "      <td>-0.13296</td>\n",
       "    </tr>\n",
       "    <tr>\n",
       "      <th>98168</th>\n",
       "      <td>4600</td>\n",
       "      <td>52.07952</td>\n",
       "      <td>-0.13340</td>\n",
       "    </tr>\n",
       "  </tbody>\n",
       "</table>\n",
       "<p>98169 rows × 3 columns</p>\n",
       "</div>"
      ],
      "text/plain": [
       "       trackid  latitude  longitude\n",
       "0            0  52.15715    0.17970\n",
       "1            0  52.15736    0.18003\n",
       "2            0  52.15750    0.18030\n",
       "3            0  52.15758    0.18058\n",
       "4            0  52.15763    0.18095\n",
       "...        ...       ...        ...\n",
       "98164     4600  52.07892   -0.13297\n",
       "98165     4600  52.07894   -0.13296\n",
       "98166     4600  52.07896   -0.13296\n",
       "98167     4600  52.07898   -0.13296\n",
       "98168     4600  52.07952   -0.13340\n",
       "\n",
       "[98169 rows x 3 columns]"
      ]
     },
     "execution_count": 3,
     "metadata": {},
     "output_type": "execute_result"
    }
   ],
   "source": [
    "a"
   ]
  },
  {
   "cell_type": "code",
   "execution_count": 4,
   "id": "native-handy",
   "metadata": {},
   "outputs": [],
   "source": [
    "a[\"trackid\"] += 2 * 1000000"
   ]
  },
  {
   "cell_type": "code",
   "execution_count": 5,
   "id": "sensitive-miller",
   "metadata": {},
   "outputs": [
    {
     "data": {
      "text/html": [
       "<div>\n",
       "<style scoped>\n",
       "    .dataframe tbody tr th:only-of-type {\n",
       "        vertical-align: middle;\n",
       "    }\n",
       "\n",
       "    .dataframe tbody tr th {\n",
       "        vertical-align: top;\n",
       "    }\n",
       "\n",
       "    .dataframe thead th {\n",
       "        text-align: right;\n",
       "    }\n",
       "</style>\n",
       "<table border=\"1\" class=\"dataframe\">\n",
       "  <thead>\n",
       "    <tr style=\"text-align: right;\">\n",
       "      <th></th>\n",
       "      <th>trackid</th>\n",
       "      <th>latitude</th>\n",
       "      <th>longitude</th>\n",
       "    </tr>\n",
       "  </thead>\n",
       "  <tbody>\n",
       "    <tr>\n",
       "      <th>0</th>\n",
       "      <td>2000000</td>\n",
       "      <td>52.15715</td>\n",
       "      <td>0.17970</td>\n",
       "    </tr>\n",
       "    <tr>\n",
       "      <th>1</th>\n",
       "      <td>2000000</td>\n",
       "      <td>52.15736</td>\n",
       "      <td>0.18003</td>\n",
       "    </tr>\n",
       "    <tr>\n",
       "      <th>2</th>\n",
       "      <td>2000000</td>\n",
       "      <td>52.15750</td>\n",
       "      <td>0.18030</td>\n",
       "    </tr>\n",
       "    <tr>\n",
       "      <th>3</th>\n",
       "      <td>2000000</td>\n",
       "      <td>52.15758</td>\n",
       "      <td>0.18058</td>\n",
       "    </tr>\n",
       "    <tr>\n",
       "      <th>4</th>\n",
       "      <td>2000000</td>\n",
       "      <td>52.15763</td>\n",
       "      <td>0.18095</td>\n",
       "    </tr>\n",
       "    <tr>\n",
       "      <th>...</th>\n",
       "      <td>...</td>\n",
       "      <td>...</td>\n",
       "      <td>...</td>\n",
       "    </tr>\n",
       "    <tr>\n",
       "      <th>98164</th>\n",
       "      <td>2004600</td>\n",
       "      <td>52.07892</td>\n",
       "      <td>-0.13297</td>\n",
       "    </tr>\n",
       "    <tr>\n",
       "      <th>98165</th>\n",
       "      <td>2004600</td>\n",
       "      <td>52.07894</td>\n",
       "      <td>-0.13296</td>\n",
       "    </tr>\n",
       "    <tr>\n",
       "      <th>98166</th>\n",
       "      <td>2004600</td>\n",
       "      <td>52.07896</td>\n",
       "      <td>-0.13296</td>\n",
       "    </tr>\n",
       "    <tr>\n",
       "      <th>98167</th>\n",
       "      <td>2004600</td>\n",
       "      <td>52.07898</td>\n",
       "      <td>-0.13296</td>\n",
       "    </tr>\n",
       "    <tr>\n",
       "      <th>98168</th>\n",
       "      <td>2004600</td>\n",
       "      <td>52.07952</td>\n",
       "      <td>-0.13340</td>\n",
       "    </tr>\n",
       "  </tbody>\n",
       "</table>\n",
       "<p>98169 rows × 3 columns</p>\n",
       "</div>"
      ],
      "text/plain": [
       "       trackid  latitude  longitude\n",
       "0      2000000  52.15715    0.17970\n",
       "1      2000000  52.15736    0.18003\n",
       "2      2000000  52.15750    0.18030\n",
       "3      2000000  52.15758    0.18058\n",
       "4      2000000  52.15763    0.18095\n",
       "...        ...       ...        ...\n",
       "98164  2004600  52.07892   -0.13297\n",
       "98165  2004600  52.07894   -0.13296\n",
       "98166  2004600  52.07896   -0.13296\n",
       "98167  2004600  52.07898   -0.13296\n",
       "98168  2004600  52.07952   -0.13340\n",
       "\n",
       "[98169 rows x 3 columns]"
      ]
     },
     "execution_count": 5,
     "metadata": {},
     "output_type": "execute_result"
    }
   ],
   "source": [
    "a"
   ]
  },
  {
   "cell_type": "code",
   "execution_count": null,
   "id": "numerous-geneva",
   "metadata": {},
   "outputs": [],
   "source": []
  }
 ],
 "metadata": {
  "kernelspec": {
   "display_name": "Python 3",
   "language": "python",
   "name": "python3"
  },
  "language_info": {
   "codemirror_mode": {
    "name": "ipython",
    "version": 3
   },
   "file_extension": ".py",
   "mimetype": "text/x-python",
   "name": "python",
   "nbconvert_exporter": "python",
   "pygments_lexer": "ipython3",
   "version": "3.8.7"
  }
 },
 "nbformat": 4,
 "nbformat_minor": 5
}
