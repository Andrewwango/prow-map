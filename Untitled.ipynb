{
 "cells": [
  {
   "cell_type": "code",
   "execution_count": 1,
   "id": "pointed-prince",
   "metadata": {},
   "outputs": [
    {
     "name": "stdout",
     "output_type": "stream",
     "text": [
      "hi\n"
     ]
    }
   ],
   "source": [
    "from streamlit_folium import folium_static"
   ]
  },
  {
   "cell_type": "code",
   "execution_count": 1,
   "id": "following-assault",
   "metadata": {},
   "outputs": [],
   "source": [
    "import pandas as pd"
   ]
  },
  {
   "cell_type": "code",
   "execution_count": 18,
   "id": "related-grain",
   "metadata": {},
   "outputs": [],
   "source": [
    "import os"
   ]
  },
  {
   "cell_type": "code",
   "execution_count": 21,
   "id": "unexpected-artist",
   "metadata": {},
   "outputs": [
    {
     "data": {
      "text/plain": [
       "['BK', 'BF']"
      ]
     },
     "execution_count": 21,
     "metadata": {},
     "output_type": "execute_result"
    }
   ],
   "source": []
  },
  {
   "cell_type": "code",
   "execution_count": 8,
   "id": "provincial-turning",
   "metadata": {},
   "outputs": [],
   "source": [
    "x = {\"a\":\"a1\", \"b\":\"b1\", \"c\":\"c1\", \"d\":\"d1\", \"e\":\"e1\"}"
   ]
  },
  {
   "cell_type": "code",
   "execution_count": 11,
   "id": "healthy-newton",
   "metadata": {},
   "outputs": [
    {
     "data": {
      "text/plain": [
       "['a', 'b', 'c', 'd', 'e']"
      ]
     },
     "execution_count": 11,
     "metadata": {},
     "output_type": "execute_result"
    }
   ],
   "source": [
    "list(x.keys())"
   ]
  },
  {
   "cell_type": "code",
   "execution_count": 30,
   "id": "resident-resort",
   "metadata": {},
   "outputs": [],
   "source": [
    "t = "
   ]
  },
  {
   "cell_type": "code",
   "execution_count": 16,
   "id": "surface-bobby",
   "metadata": {},
   "outputs": [],
   "source": [
    "a = \"a\""
   ]
  },
  {
   "cell_type": "code",
   "execution_count": 17,
   "id": "large-helicopter",
   "metadata": {},
   "outputs": [
    {
     "data": {
      "text/plain": [
       "['a']"
      ]
     },
     "execution_count": 17,
     "metadata": {},
     "output_type": "execute_result"
    }
   ],
   "source": [
    "[i for i in a]"
   ]
  },
  {
   "cell_type": "code",
   "execution_count": 35,
   "id": "revised-adult",
   "metadata": {},
   "outputs": [],
   "source": [
    "d = pd.DataFrame(x.items(), columns=[\"m\",\"n\"])"
   ]
  },
  {
   "cell_type": "code",
   "execution_count": 39,
   "id": "constant-clerk",
   "metadata": {},
   "outputs": [
    {
     "data": {
      "text/plain": [
       "False"
      ]
     },
     "execution_count": 39,
     "metadata": {},
     "output_type": "execute_result"
    }
   ],
   "source": [
    "\"a\" in d.columns"
   ]
  },
  {
   "cell_type": "code",
   "execution_count": 12,
   "id": "incorporate-sleeping",
   "metadata": {},
   "outputs": [
    {
     "data": {
      "text/plain": [
       "'a'"
      ]
     },
     "execution_count": 12,
     "metadata": {},
     "output_type": "execute_result"
    }
   ],
   "source": [
    "d[d[\"n\"]==\"a1\"][\"m\"].iloc[0]"
   ]
  },
  {
   "cell_type": "code",
   "execution_count": 1,
   "id": "funky-mineral",
   "metadata": {},
   "outputs": [],
   "source": [
    "import utils.authority_names"
   ]
  },
  {
   "cell_type": "code",
   "execution_count": 3,
   "id": "visible-wyoming",
   "metadata": {},
   "outputs": [
    {
     "data": {
      "text/plain": [
       "'BF'"
      ]
     },
     "execution_count": 3,
     "metadata": {},
     "output_type": "execute_result"
    }
   ],
   "source": [
    "utils.authority_names.reverse_search(\"Bedford\")"
   ]
  },
  {
   "cell_type": "code",
   "execution_count": 4,
   "id": "streaming-drive",
   "metadata": {},
   "outputs": [],
   "source": [
    "authorities = [\n",
    "    \"Cambridgeshire, UK\",\n",
    "    \"City of Peterborough, UK\",\n",
    "    \"Norfolk, UK\",\n",
    "    \"Suffolk, UK\",\n",
    "    \"Essex, UK\",\n",
    "    \"Thurrock, UK\",\n",
    "    \"Hertfordshire, UK\",\n",
    "    \"Central Bedfordshire, UK\",\n",
    "    \"Bedford, UK\"\n",
    "]"
   ]
  },
  {
   "cell_type": "code",
   "execution_count": 5,
   "id": "neutral-heaven",
   "metadata": {},
   "outputs": [],
   "source": []
  },
  {
   "cell_type": "code",
   "execution_count": 8,
   "id": "conservative-scott",
   "metadata": {},
   "outputs": [
    {
     "name": "stdout",
     "output_type": "stream",
     "text": [
      "CB\n",
      "PE\n",
      "NK\n",
      "SK\n",
      "EX\n",
      "TU\n",
      "HD\n",
      "BK\n",
      "BF\n"
     ]
    }
   ],
   "source": [
    "a = {\"a\"}"
   ]
  },
  {
   "cell_type": "code",
   "execution_count": 3,
   "id": "automatic-diabetes",
   "metadata": {},
   "outputs": [],
   "source": [
    "a = pd.read_csv(\"data/row/BF.csv\")"
   ]
  },
  {
   "cell_type": "code",
   "execution_count": 4,
   "id": "informative-restoration",
   "metadata": {},
   "outputs": [
    {
     "data": {
      "text/html": [
       "<div>\n",
       "<style scoped>\n",
       "    .dataframe tbody tr th:only-of-type {\n",
       "        vertical-align: middle;\n",
       "    }\n",
       "\n",
       "    .dataframe tbody tr th {\n",
       "        vertical-align: top;\n",
       "    }\n",
       "\n",
       "    .dataframe thead th {\n",
       "        text-align: right;\n",
       "    }\n",
       "</style>\n",
       "<table border=\"1\" class=\"dataframe\">\n",
       "  <thead>\n",
       "    <tr style=\"text-align: right;\">\n",
       "      <th></th>\n",
       "      <th>Unnamed: 0</th>\n",
       "      <th>latitude</th>\n",
       "      <th>longitude</th>\n",
       "      <th>tracksegid</th>\n",
       "      <th>trackid</th>\n",
       "    </tr>\n",
       "  </thead>\n",
       "  <tbody>\n",
       "    <tr>\n",
       "      <th>0</th>\n",
       "      <td>0</td>\n",
       "      <td>52.162500</td>\n",
       "      <td>-0.395110</td>\n",
       "      <td>0</td>\n",
       "      <td>0</td>\n",
       "    </tr>\n",
       "    <tr>\n",
       "      <th>1</th>\n",
       "      <td>1</td>\n",
       "      <td>52.162455</td>\n",
       "      <td>-0.395110</td>\n",
       "      <td>0</td>\n",
       "      <td>0</td>\n",
       "    </tr>\n",
       "    <tr>\n",
       "      <th>2</th>\n",
       "      <td>2</td>\n",
       "      <td>52.162410</td>\n",
       "      <td>-0.395110</td>\n",
       "      <td>0</td>\n",
       "      <td>0</td>\n",
       "    </tr>\n",
       "    <tr>\n",
       "      <th>3</th>\n",
       "      <td>3</td>\n",
       "      <td>52.162364</td>\n",
       "      <td>-0.395110</td>\n",
       "      <td>0</td>\n",
       "      <td>0</td>\n",
       "    </tr>\n",
       "    <tr>\n",
       "      <th>4</th>\n",
       "      <td>4</td>\n",
       "      <td>52.162319</td>\n",
       "      <td>-0.395110</td>\n",
       "      <td>0</td>\n",
       "      <td>0</td>\n",
       "    </tr>\n",
       "    <tr>\n",
       "      <th>...</th>\n",
       "      <td>...</td>\n",
       "      <td>...</td>\n",
       "      <td>...</td>\n",
       "      <td>...</td>\n",
       "      <td>...</td>\n",
       "    </tr>\n",
       "    <tr>\n",
       "      <th>257523</th>\n",
       "      <td>257523</td>\n",
       "      <td>52.300241</td>\n",
       "      <td>-0.498457</td>\n",
       "      <td>0</td>\n",
       "      <td>2931</td>\n",
       "    </tr>\n",
       "    <tr>\n",
       "      <th>257524</th>\n",
       "      <td>257524</td>\n",
       "      <td>52.300196</td>\n",
       "      <td>-0.498462</td>\n",
       "      <td>0</td>\n",
       "      <td>2931</td>\n",
       "    </tr>\n",
       "    <tr>\n",
       "      <th>257525</th>\n",
       "      <td>257525</td>\n",
       "      <td>52.300151</td>\n",
       "      <td>-0.498467</td>\n",
       "      <td>0</td>\n",
       "      <td>2931</td>\n",
       "    </tr>\n",
       "    <tr>\n",
       "      <th>257526</th>\n",
       "      <td>257526</td>\n",
       "      <td>52.300109</td>\n",
       "      <td>-0.498477</td>\n",
       "      <td>0</td>\n",
       "      <td>2931</td>\n",
       "    </tr>\n",
       "    <tr>\n",
       "      <th>257527</th>\n",
       "      <td>257527</td>\n",
       "      <td>52.300070</td>\n",
       "      <td>-0.498500</td>\n",
       "      <td>0</td>\n",
       "      <td>2931</td>\n",
       "    </tr>\n",
       "  </tbody>\n",
       "</table>\n",
       "<p>257528 rows × 5 columns</p>\n",
       "</div>"
      ],
      "text/plain": [
       "        Unnamed: 0   latitude  longitude  tracksegid  trackid\n",
       "0                0  52.162500  -0.395110           0        0\n",
       "1                1  52.162455  -0.395110           0        0\n",
       "2                2  52.162410  -0.395110           0        0\n",
       "3                3  52.162364  -0.395110           0        0\n",
       "4                4  52.162319  -0.395110           0        0\n",
       "...            ...        ...        ...         ...      ...\n",
       "257523      257523  52.300241  -0.498457           0     2931\n",
       "257524      257524  52.300196  -0.498462           0     2931\n",
       "257525      257525  52.300151  -0.498467           0     2931\n",
       "257526      257526  52.300109  -0.498477           0     2931\n",
       "257527      257527  52.300070  -0.498500           0     2931\n",
       "\n",
       "[257528 rows x 5 columns]"
      ]
     },
     "execution_count": 4,
     "metadata": {},
     "output_type": "execute_result"
    }
   ],
   "source": [
    "a"
   ]
  },
  {
   "cell_type": "code",
   "execution_count": 6,
   "id": "forbidden-artist",
   "metadata": {},
   "outputs": [
    {
     "data": {
      "text/plain": [
       "Index(['Unnamed: 0', 'latitude', 'longitude', 'tracksegid', 'trackid'], dtype='object')"
      ]
     },
     "execution_count": 6,
     "metadata": {},
     "output_type": "execute_result"
    }
   ],
   "source": [
    "a.columns"
   ]
  },
  {
   "cell_type": "code",
   "execution_count": 7,
   "id": "flying-ecology",
   "metadata": {},
   "outputs": [
    {
     "data": {
      "text/html": [
       "<div>\n",
       "<style scoped>\n",
       "    .dataframe tbody tr th:only-of-type {\n",
       "        vertical-align: middle;\n",
       "    }\n",
       "\n",
       "    .dataframe tbody tr th {\n",
       "        vertical-align: top;\n",
       "    }\n",
       "\n",
       "    .dataframe thead th {\n",
       "        text-align: right;\n",
       "    }\n",
       "</style>\n",
       "<table border=\"1\" class=\"dataframe\">\n",
       "  <thead>\n",
       "    <tr style=\"text-align: right;\">\n",
       "      <th></th>\n",
       "      <th>Unnamed: 0</th>\n",
       "      <th>latitude</th>\n",
       "      <th>longitude</th>\n",
       "      <th>tracksegid</th>\n",
       "      <th>trackid</th>\n",
       "    </tr>\n",
       "  </thead>\n",
       "  <tbody>\n",
       "  </tbody>\n",
       "</table>\n",
       "</div>"
      ],
      "text/plain": [
       "Empty DataFrame\n",
       "Columns: [Unnamed: 0, latitude, longitude, tracksegid, trackid]\n",
       "Index: []"
      ]
     },
     "execution_count": 7,
     "metadata": {},
     "output_type": "execute_result"
    }
   ],
   "source": []
  },
  {
   "cell_type": "code",
   "execution_count": 17,
   "id": "alpha-narrow",
   "metadata": {},
   "outputs": [],
   "source": [
    "P = a[\"trackid\"] == 20"
   ]
  },
  {
   "cell_type": "code",
   "execution_count": 18,
   "id": "electric-venture",
   "metadata": {},
   "outputs": [],
   "source": [
    "R = a[\"latitude\"] <= 52.301360"
   ]
  },
  {
   "cell_type": "code",
   "execution_count": 25,
   "id": "pharmaceutical-sociology",
   "metadata": {},
   "outputs": [
    {
     "data": {
      "text/html": [
       "<div>\n",
       "<style scoped>\n",
       "    .dataframe tbody tr th:only-of-type {\n",
       "        vertical-align: middle;\n",
       "    }\n",
       "\n",
       "    .dataframe tbody tr th {\n",
       "        vertical-align: top;\n",
       "    }\n",
       "\n",
       "    .dataframe thead th {\n",
       "        text-align: right;\n",
       "    }\n",
       "</style>\n",
       "<table border=\"1\" class=\"dataframe\">\n",
       "  <thead>\n",
       "    <tr style=\"text-align: right;\">\n",
       "      <th></th>\n",
       "      <th>Unnamed: 0</th>\n",
       "      <th>latitude</th>\n",
       "      <th>longitude</th>\n",
       "      <th>tracksegid</th>\n",
       "      <th>trackid</th>\n",
       "    </tr>\n",
       "  </thead>\n",
       "  <tbody>\n",
       "    <tr>\n",
       "      <th>1288</th>\n",
       "      <td>1288</td>\n",
       "      <td>52.30136</td>\n",
       "      <td>-0.46512</td>\n",
       "      <td>0</td>\n",
       "      <td>20</td>\n",
       "    </tr>\n",
       "  </tbody>\n",
       "</table>\n",
       "</div>"
      ],
      "text/plain": [
       "      Unnamed: 0  latitude  longitude  tracksegid  trackid\n",
       "1288        1288  52.30136   -0.46512           0       20"
      ]
     },
     "execution_count": 25,
     "metadata": {},
     "output_type": "execute_result"
    }
   ],
   "source": [
    "a[P & R]"
   ]
  },
  {
   "cell_type": "code",
   "execution_count": 15,
   "id": "attempted-separation",
   "metadata": {},
   "outputs": [
    {
     "data": {
      "text/plain": [
       "0         False\n",
       "1         False\n",
       "2         False\n",
       "3         False\n",
       "4         False\n",
       "          ...  \n",
       "257523    False\n",
       "257524    False\n",
       "257525    False\n",
       "257526    False\n",
       "257527    False\n",
       "Length: 257528, dtype: bool"
      ]
     },
     "execution_count": 15,
     "metadata": {},
     "output_type": "execute_result"
    }
   ],
   "source": [
    "(a[\"trackid\"] == 20) & (a[\"latitude\"] <= 52.301360)"
   ]
  },
  {
   "cell_type": "code",
   "execution_count": 1,
   "id": "varying-sport",
   "metadata": {},
   "outputs": [],
   "source": [
    "from utils import gpx_converter"
   ]
  },
  {
   "cell_type": "code",
   "execution_count": 2,
   "id": "covered-athletics",
   "metadata": {},
   "outputs": [],
   "source": [
    "a = gpx_converter.Converter(input_file=\"data/row/row.gpx\").gpx_to_dataframe() "
   ]
  },
  {
   "cell_type": "code",
   "execution_count": 16,
   "id": "athletic-yellow",
   "metadata": {},
   "outputs": [
    {
     "data": {
      "text/html": [
       "<div>\n",
       "<style scoped>\n",
       "    .dataframe tbody tr th:only-of-type {\n",
       "        vertical-align: middle;\n",
       "    }\n",
       "\n",
       "    .dataframe tbody tr th {\n",
       "        vertical-align: top;\n",
       "    }\n",
       "\n",
       "    .dataframe thead th {\n",
       "        text-align: right;\n",
       "    }\n",
       "</style>\n",
       "<table border=\"1\" class=\"dataframe\">\n",
       "  <thead>\n",
       "    <tr style=\"text-align: right;\">\n",
       "      <th></th>\n",
       "      <th>Unnamed: 0</th>\n",
       "      <th>latitude</th>\n",
       "      <th>longitude</th>\n",
       "      <th>tracksegid</th>\n",
       "      <th>trackid</th>\n",
       "    </tr>\n",
       "  </thead>\n",
       "  <tbody>\n",
       "    <tr>\n",
       "      <th>1288</th>\n",
       "      <td>1288</td>\n",
       "      <td>52.30136</td>\n",
       "      <td>-0.46512</td>\n",
       "      <td>0</td>\n",
       "      <td>20</td>\n",
       "    </tr>\n",
       "  </tbody>\n",
       "</table>\n",
       "</div>"
      ],
      "text/plain": [
       "      Unnamed: 0  latitude  longitude  tracksegid  trackid\n",
       "1288        1288  52.30136   -0.46512           0       20"
      ]
     },
     "execution_count": 16,
     "metadata": {},
     "output_type": "execute_result"
    }
   ],
   "source": [
    "a[(a[\"trackid\"] == 20) & (a[\"latitude\"] <= 52.301360)]"
   ]
  },
  {
   "cell_type": "code",
   "execution_count": 4,
   "id": "minimal-storm",
   "metadata": {},
   "outputs": [],
   "source": [
    "a[\"trackid\"] += 2 * 1000000"
   ]
  },
  {
   "cell_type": "code",
   "execution_count": 5,
   "id": "baking-latino",
   "metadata": {},
   "outputs": [
    {
     "data": {
      "text/html": [
       "<div>\n",
       "<style scoped>\n",
       "    .dataframe tbody tr th:only-of-type {\n",
       "        vertical-align: middle;\n",
       "    }\n",
       "\n",
       "    .dataframe tbody tr th {\n",
       "        vertical-align: top;\n",
       "    }\n",
       "\n",
       "    .dataframe thead th {\n",
       "        text-align: right;\n",
       "    }\n",
       "</style>\n",
       "<table border=\"1\" class=\"dataframe\">\n",
       "  <thead>\n",
       "    <tr style=\"text-align: right;\">\n",
       "      <th></th>\n",
       "      <th>trackid</th>\n",
       "      <th>latitude</th>\n",
       "      <th>longitude</th>\n",
       "    </tr>\n",
       "  </thead>\n",
       "  <tbody>\n",
       "    <tr>\n",
       "      <th>0</th>\n",
       "      <td>2000000</td>\n",
       "      <td>52.15715</td>\n",
       "      <td>0.17970</td>\n",
       "    </tr>\n",
       "    <tr>\n",
       "      <th>1</th>\n",
       "      <td>2000000</td>\n",
       "      <td>52.15736</td>\n",
       "      <td>0.18003</td>\n",
       "    </tr>\n",
       "    <tr>\n",
       "      <th>2</th>\n",
       "      <td>2000000</td>\n",
       "      <td>52.15750</td>\n",
       "      <td>0.18030</td>\n",
       "    </tr>\n",
       "    <tr>\n",
       "      <th>3</th>\n",
       "      <td>2000000</td>\n",
       "      <td>52.15758</td>\n",
       "      <td>0.18058</td>\n",
       "    </tr>\n",
       "    <tr>\n",
       "      <th>4</th>\n",
       "      <td>2000000</td>\n",
       "      <td>52.15763</td>\n",
       "      <td>0.18095</td>\n",
       "    </tr>\n",
       "    <tr>\n",
       "      <th>...</th>\n",
       "      <td>...</td>\n",
       "      <td>...</td>\n",
       "      <td>...</td>\n",
       "    </tr>\n",
       "    <tr>\n",
       "      <th>98164</th>\n",
       "      <td>2004600</td>\n",
       "      <td>52.07892</td>\n",
       "      <td>-0.13297</td>\n",
       "    </tr>\n",
       "    <tr>\n",
       "      <th>98165</th>\n",
       "      <td>2004600</td>\n",
       "      <td>52.07894</td>\n",
       "      <td>-0.13296</td>\n",
       "    </tr>\n",
       "    <tr>\n",
       "      <th>98166</th>\n",
       "      <td>2004600</td>\n",
       "      <td>52.07896</td>\n",
       "      <td>-0.13296</td>\n",
       "    </tr>\n",
       "    <tr>\n",
       "      <th>98167</th>\n",
       "      <td>2004600</td>\n",
       "      <td>52.07898</td>\n",
       "      <td>-0.13296</td>\n",
       "    </tr>\n",
       "    <tr>\n",
       "      <th>98168</th>\n",
       "      <td>2004600</td>\n",
       "      <td>52.07952</td>\n",
       "      <td>-0.13340</td>\n",
       "    </tr>\n",
       "  </tbody>\n",
       "</table>\n",
       "<p>98169 rows × 3 columns</p>\n",
       "</div>"
      ],
      "text/plain": [
       "       trackid  latitude  longitude\n",
       "0      2000000  52.15715    0.17970\n",
       "1      2000000  52.15736    0.18003\n",
       "2      2000000  52.15750    0.18030\n",
       "3      2000000  52.15758    0.18058\n",
       "4      2000000  52.15763    0.18095\n",
       "...        ...       ...        ...\n",
       "98164  2004600  52.07892   -0.13297\n",
       "98165  2004600  52.07894   -0.13296\n",
       "98166  2004600  52.07896   -0.13296\n",
       "98167  2004600  52.07898   -0.13296\n",
       "98168  2004600  52.07952   -0.13340\n",
       "\n",
       "[98169 rows x 3 columns]"
      ]
     },
     "execution_count": 5,
     "metadata": {},
     "output_type": "execute_result"
    }
   ],
   "source": [
    "a"
   ]
  },
  {
   "cell_type": "code",
   "execution_count": 1,
   "id": "useful-rental",
   "metadata": {},
   "outputs": [],
   "source": [
    "import osmnx as ox"
   ]
  },
  {
   "cell_type": "code",
   "execution_count": 2,
   "id": "confused-financing",
   "metadata": {},
   "outputs": [
    {
     "ename": "FileNotFoundError",
     "evalue": "[Errno 2] No such file or directory: 'as'",
     "output_type": "error",
     "traceback": [
      "\u001b[1;31m---------------------------------------------------------------------------\u001b[0m",
      "\u001b[1;31mFileNotFoundError\u001b[0m                         Traceback (most recent call last)",
      "\u001b[1;32m<ipython-input-2-2f95b63e1fb0>\u001b[0m in \u001b[0;36m<module>\u001b[1;34m\u001b[0m\n\u001b[1;32m----> 1\u001b[1;33m \u001b[0mox\u001b[0m\u001b[1;33m.\u001b[0m\u001b[0mload_graphml\u001b[0m\u001b[1;33m(\u001b[0m\u001b[1;34m\"as\"\u001b[0m\u001b[1;33m)\u001b[0m\u001b[1;33m\u001b[0m\u001b[1;33m\u001b[0m\u001b[0m\n\u001b[0m",
      "\u001b[1;32mc:\\users\\andre\\appdata\\local\\programs\\python\\python38\\lib\\site-packages\\osmnx\\io.py\u001b[0m in \u001b[0;36mload_graphml\u001b[1;34m(filepath, graphml_str, node_dtypes, edge_dtypes, graph_dtypes)\u001b[0m\n\u001b[0;32m    249\u001b[0m         \u001b[1;31m# read the graphml file from disk\u001b[0m\u001b[1;33m\u001b[0m\u001b[1;33m\u001b[0m\u001b[1;33m\u001b[0m\u001b[0m\n\u001b[0;32m    250\u001b[0m         \u001b[0msource\u001b[0m \u001b[1;33m=\u001b[0m \u001b[0mfilepath\u001b[0m\u001b[1;33m\u001b[0m\u001b[1;33m\u001b[0m\u001b[0m\n\u001b[1;32m--> 251\u001b[1;33m         G = nx.read_graphml(\n\u001b[0m\u001b[0;32m    252\u001b[0m             \u001b[0mPath\u001b[0m\u001b[1;33m(\u001b[0m\u001b[0mfilepath\u001b[0m\u001b[1;33m)\u001b[0m\u001b[1;33m,\u001b[0m \u001b[0mnode_type\u001b[0m\u001b[1;33m=\u001b[0m\u001b[0mdefault_node_dtypes\u001b[0m\u001b[1;33m[\u001b[0m\u001b[1;34m\"osmid\"\u001b[0m\u001b[1;33m]\u001b[0m\u001b[1;33m,\u001b[0m \u001b[0mforce_multigraph\u001b[0m\u001b[1;33m=\u001b[0m\u001b[1;32mTrue\u001b[0m\u001b[1;33m\u001b[0m\u001b[1;33m\u001b[0m\u001b[0m\n\u001b[0;32m    253\u001b[0m         )\n",
      "\u001b[1;32mc:\\users\\andre\\appdata\\local\\programs\\python\\python38\\lib\\site-packages\\networkx\\utils\\decorators.py\u001b[0m in \u001b[0;36mfunc\u001b[1;34m(_argmap__wrapper, *args, **kwargs)\u001b[0m\n\u001b[0;32m    841\u001b[0m \u001b[1;33m\u001b[0m\u001b[0m\n\u001b[0;32m    842\u001b[0m         \u001b[1;32mdef\u001b[0m \u001b[0mfunc\u001b[0m\u001b[1;33m(\u001b[0m\u001b[1;33m*\u001b[0m\u001b[0margs\u001b[0m\u001b[1;33m,\u001b[0m \u001b[0m__wrapper\u001b[0m\u001b[1;33m=\u001b[0m\u001b[1;32mNone\u001b[0m\u001b[1;33m,\u001b[0m \u001b[1;33m**\u001b[0m\u001b[0mkwargs\u001b[0m\u001b[1;33m)\u001b[0m\u001b[1;33m:\u001b[0m\u001b[1;33m\u001b[0m\u001b[1;33m\u001b[0m\u001b[0m\n\u001b[1;32m--> 843\u001b[1;33m             \u001b[1;32mreturn\u001b[0m \u001b[0margmap\u001b[0m\u001b[1;33m.\u001b[0m\u001b[0m_lazy_compile\u001b[0m\u001b[1;33m(\u001b[0m\u001b[0m__wrapper\u001b[0m\u001b[1;33m)\u001b[0m\u001b[1;33m(\u001b[0m\u001b[1;33m*\u001b[0m\u001b[0margs\u001b[0m\u001b[1;33m,\u001b[0m \u001b[1;33m**\u001b[0m\u001b[0mkwargs\u001b[0m\u001b[1;33m)\u001b[0m\u001b[1;33m\u001b[0m\u001b[1;33m\u001b[0m\u001b[0m\n\u001b[0m\u001b[0;32m    844\u001b[0m \u001b[1;33m\u001b[0m\u001b[0m\n\u001b[0;32m    845\u001b[0m         \u001b[1;31m# standard function-wrapping stuff\u001b[0m\u001b[1;33m\u001b[0m\u001b[1;33m\u001b[0m\u001b[1;33m\u001b[0m\u001b[0m\n",
      "\u001b[1;32mc:\\users\\andre\\appdata\\local\\programs\\python\\python38\\lib\\site-packages\\networkx\\utils\\decorators.py\u001b[0m in \u001b[0;36margmap_read_graphml_1\u001b[1;34m(path, node_type, edge_key_type, force_multigraph)\u001b[0m\n\u001b[0;32m      1\u001b[0m \u001b[1;32mfrom\u001b[0m \u001b[0mcollections\u001b[0m \u001b[1;32mimport\u001b[0m \u001b[0mdefaultdict\u001b[0m\u001b[1;33m\u001b[0m\u001b[1;33m\u001b[0m\u001b[0m\n\u001b[0;32m      2\u001b[0m \u001b[1;32mfrom\u001b[0m \u001b[0mos\u001b[0m\u001b[1;33m.\u001b[0m\u001b[0mpath\u001b[0m \u001b[1;32mimport\u001b[0m \u001b[0msplitext\u001b[0m\u001b[1;33m\u001b[0m\u001b[1;33m\u001b[0m\u001b[0m\n\u001b[1;32m----> 3\u001b[1;33m \u001b[1;32mfrom\u001b[0m \u001b[0mcontextlib\u001b[0m \u001b[1;32mimport\u001b[0m \u001b[0mcontextmanager\u001b[0m\u001b[1;33m\u001b[0m\u001b[1;33m\u001b[0m\u001b[0m\n\u001b[0m\u001b[0;32m      4\u001b[0m \u001b[1;32mfrom\u001b[0m \u001b[0mpathlib\u001b[0m \u001b[1;32mimport\u001b[0m \u001b[0mPath\u001b[0m\u001b[1;33m\u001b[0m\u001b[1;33m\u001b[0m\u001b[0m\n\u001b[0;32m      5\u001b[0m \u001b[1;33m\u001b[0m\u001b[0m\n",
      "\u001b[1;32mc:\\users\\andre\\appdata\\local\\programs\\python\\python38\\lib\\site-packages\\networkx\\utils\\decorators.py\u001b[0m in \u001b[0;36m_open_file\u001b[1;34m(path)\u001b[0m\n\u001b[0;32m    187\u001b[0m             \u001b[1;32mreturn\u001b[0m \u001b[0mpath\u001b[0m\u001b[1;33m,\u001b[0m \u001b[1;32mlambda\u001b[0m\u001b[1;33m:\u001b[0m \u001b[1;32mNone\u001b[0m\u001b[1;33m\u001b[0m\u001b[1;33m\u001b[0m\u001b[0m\n\u001b[0;32m    188\u001b[0m \u001b[1;33m\u001b[0m\u001b[0m\n\u001b[1;32m--> 189\u001b[1;33m         \u001b[0mfobj\u001b[0m \u001b[1;33m=\u001b[0m \u001b[0m_dispatch_dict\u001b[0m\u001b[1;33m[\u001b[0m\u001b[0mext\u001b[0m\u001b[1;33m]\u001b[0m\u001b[1;33m(\u001b[0m\u001b[0mpath\u001b[0m\u001b[1;33m,\u001b[0m \u001b[0mmode\u001b[0m\u001b[1;33m=\u001b[0m\u001b[0mmode\u001b[0m\u001b[1;33m)\u001b[0m\u001b[1;33m\u001b[0m\u001b[1;33m\u001b[0m\u001b[0m\n\u001b[0m\u001b[0;32m    190\u001b[0m         \u001b[1;32mreturn\u001b[0m \u001b[0mfobj\u001b[0m\u001b[1;33m,\u001b[0m \u001b[1;32mlambda\u001b[0m\u001b[1;33m:\u001b[0m \u001b[0mfobj\u001b[0m\u001b[1;33m.\u001b[0m\u001b[0mclose\u001b[0m\u001b[1;33m(\u001b[0m\u001b[1;33m)\u001b[0m\u001b[1;33m\u001b[0m\u001b[1;33m\u001b[0m\u001b[0m\n\u001b[0;32m    191\u001b[0m \u001b[1;33m\u001b[0m\u001b[0m\n",
      "\u001b[1;31mFileNotFoundError\u001b[0m: [Errno 2] No such file or directory: 'as'"
     ]
    }
   ],
   "source": [
    "ox.load_graphml(\"as\")"
   ]
  },
  {
   "cell_type": "code",
   "execution_count": 3,
   "id": "imposed-dealer",
   "metadata": {},
   "outputs": [],
   "source": [
    "import networkx as nx"
   ]
  },
  {
   "cell_type": "code",
   "execution_count": 19,
   "id": "biological-scholar",
   "metadata": {},
   "outputs": [],
   "source": [
    "ox.save_graphml(nx.MultiGraph(), \"temp.graphml\")"
   ]
  },
  {
   "cell_type": "code",
   "execution_count": 20,
   "id": "progressive-flashing",
   "metadata": {},
   "outputs": [],
   "source": [
    "a = ox.load_graphml(\"temp.graphml\")"
   ]
  },
  {
   "cell_type": "code",
   "execution_count": 21,
   "id": "spread-thunder",
   "metadata": {},
   "outputs": [
    {
     "data": {
      "text/plain": [
       "<networkx.classes.multidigraph.MultiDiGraph at 0x2222eb3d550>"
      ]
     },
     "execution_count": 21,
     "metadata": {},
     "output_type": "execute_result"
    }
   ],
   "source": [
    "a"
   ]
  },
  {
   "cell_type": "code",
   "execution_count": 22,
   "id": "threaded-specialist",
   "metadata": {},
   "outputs": [
    {
     "data": {
      "text/plain": [
       "True"
      ]
     },
     "execution_count": 22,
     "metadata": {},
     "output_type": "execute_result"
    }
   ],
   "source": [
    "nx.is_empty(a)"
   ]
  },
  {
   "cell_type": "code",
   "execution_count": 25,
   "id": "large-interaction",
   "metadata": {},
   "outputs": [
    {
     "name": "stdout",
     "output_type": "stream",
     "text": [
      "Wall time: 214 ms\n"
     ]
    }
   ],
   "source": [
    "%%time\n",
    "a = ox.load_graphml(\"data/osmnx/east-of-england_0.graphml\")"
   ]
  },
  {
   "cell_type": "code",
   "execution_count": 26,
   "id": "executed-thailand",
   "metadata": {},
   "outputs": [],
   "source": [
    "graph_nodes, graph_edges = ox.graph_to_gdfs(a, nodes=True, edges=True)"
   ]
  },
  {
   "cell_type": "code",
   "execution_count": null,
   "id": "boxed-newman",
   "metadata": {},
   "outputs": [],
   "source": []
  }
 ],
 "metadata": {
  "kernelspec": {
   "display_name": "Python 3",
   "language": "python",
   "name": "python3"
  },
  "language_info": {
   "codemirror_mode": {
    "name": "ipython",
    "version": 3
   },
   "file_extension": ".py",
   "mimetype": "text/x-python",
   "name": "python",
   "nbconvert_exporter": "python",
   "pygments_lexer": "ipython3",
   "version": "3.8.7"
  }
 },
 "nbformat": 4,
 "nbformat_minor": 5
}
