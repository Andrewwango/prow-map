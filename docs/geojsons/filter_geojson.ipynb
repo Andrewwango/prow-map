{
 "cells": [
  {
   "cell_type": "code",
   "execution_count": 3,
   "metadata": {},
   "outputs": [],
   "source": [
    "import geopandas as gpd\n",
    "\n",
    "LADS = [\n",
    "    \"Bedford\", \n",
    "    \"Central Bedfordshire\"\n",
    "]\n",
    "\n",
    "gdf = gpd.read_file('lad.geojson')\n",
    "\n",
    "filtered_gdf = gdf[gdf['LAD13NM'].isin(LADS)]\n",
    "\n",
    "merged_gdf = gpd.GeoDataFrame(geometry=[filtered_gdf.unary_union], crs=gdf.crs)\n",
    "\n",
    "merged_gdf.to_file('lad_filtered.geojson', driver='GeoJSON')"
   ]
  }
 ],
 "metadata": {
  "kernelspec": {
   "display_name": "venv",
   "language": "python",
   "name": "python3"
  },
  "language_info": {
   "codemirror_mode": {
    "name": "ipython",
    "version": 3
   },
   "file_extension": ".py",
   "mimetype": "text/x-python",
   "name": "python",
   "nbconvert_exporter": "python",
   "pygments_lexer": "ipython3",
   "version": "3.11.5"
  }
 },
 "nbformat": 4,
 "nbformat_minor": 2
}
