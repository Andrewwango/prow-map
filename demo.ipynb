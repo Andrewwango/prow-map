{
 "cells": [
  {
   "cell_type": "code",
   "execution_count": 1,
   "id": "indie-agreement",
   "metadata": {},
   "outputs": [],
   "source": [
    "import download_data, analysis"
   ]
  },
  {
   "cell_type": "code",
   "execution_count": 2,
   "id": "norman-guidance",
   "metadata": {},
   "outputs": [],
   "source": [
    "# EAST OF ENGLAND available RoW data\n",
    "authorities = [\n",
    "    \"Cambridgeshire, UK\",\n",
    "    \"City of Peterborough, UK\",\n",
    "    \"Norfolk, UK\",\n",
    "    \"Suffolk, UK\",\n",
    "    \"Essex, UK\",\n",
    "    \"Thurrock, UK\",\n",
    "    \"Hertfordshire, UK\",\n",
    "    \"Central Bedfordshire, UK\",\n",
    "    \"Bedford, UK\"\n",
    "]\n",
    "authorities = [\n",
    "    \"Bedford, UK\"\n",
    "]\n",
    "region = \"east-of-england\""
   ]
  },
  {
   "cell_type": "markdown",
   "id": "intended-trash",
   "metadata": {},
   "source": [
    "## Download RoW data"
   ]
  },
  {
   "cell_type": "code",
   "execution_count": 3,
   "id": "outer-cambridge",
   "metadata": {},
   "outputs": [
    {
     "name": "stdout",
     "output_type": "stream",
     "text": [
      "Downloading RoW data for  Bedford BF\n",
      "Converting...\n",
      "Interpolating...\n"
     ]
    },
    {
     "data": {
      "application/vnd.jupyter.widget-view+json": {
       "model_id": "94cc2cd7df634fd88c1bacb7a0d5ff40",
       "version_major": 2,
       "version_minor": 0
      },
      "text/plain": [
       "  0%|          | 0/2932 [00:00<?, ?it/s]"
      ]
     },
     "metadata": {},
     "output_type": "display_data"
    },
    {
     "name": "stdout",
     "output_type": "stream",
     "text": [
      "Done\n"
     ]
    }
   ],
   "source": [
    "download_data.download_row_data(authorities, fn=f\"data/row/{region}\") #download all places mentioned, merge, convert to csv, INTERPOLATE w/o segmentation, and save as csv"
   ]
  },
  {
   "cell_type": "markdown",
   "id": "nutritional-anaheim",
   "metadata": {},
   "source": [
    "## Download public GPS data"
   ]
  },
  {
   "cell_type": "code",
   "execution_count": 3,
   "id": "passing-country",
   "metadata": {},
   "outputs": [
    {
     "name": "stdout",
     "output_type": "stream",
     "text": [
      "Downloading to data/public/east-of-england.csv...\n",
      "Converting...\n"
     ]
    },
    {
     "name": "stderr",
     "output_type": "stream",
     "text": [
      "8829it [1:05:23,  2.25it/s]\n"
     ]
    },
    {
     "name": "stdout",
     "output_type": "stream",
     "text": [
      "Done\n"
     ]
    }
   ],
   "source": [
    "download_data.download_public_gps_data(region, fn=f\"data/public/{region}\") #existing pull from website and convert"
   ]
  },
  {
   "cell_type": "markdown",
   "id": "minor-publisher",
   "metadata": {},
   "source": [
    "## Download graph data"
   ]
  },
  {
   "cell_type": "code",
   "execution_count": 3,
   "id": "forty-culture",
   "metadata": {},
   "outputs": [],
   "source": [
    "graph_boundary = download_data.get_graph_boundary(authorities) #cells/multipolygonh"
   ]
  },
  {
   "cell_type": "code",
   "execution_count": 4,
   "id": "underlying-macintosh",
   "metadata": {},
   "outputs": [
    {
     "data": {
      "text/plain": [
       "[<shapely.geometry.polygon.Polygon at 0x2e031d56700>,\n",
       " <shapely.geometry.polygon.Polygon at 0x2e031d56f40>,\n",
       " <shapely.geometry.polygon.Polygon at 0x2e031d56730>,\n",
       " <shapely.geometry.polygon.Polygon at 0x2e031d56820>,\n",
       " <shapely.geometry.polygon.Polygon at 0x2e031d56190>,\n",
       " <shapely.geometry.polygon.Polygon at 0x2e031d565b0>,\n",
       " <shapely.geometry.polygon.Polygon at 0x2e031d56d30>,\n",
       " <shapely.geometry.polygon.Polygon at 0x2e031d56640>,\n",
       " <shapely.geometry.polygon.Polygon at 0x2e031d56490>,\n",
       " <shapely.geometry.polygon.Polygon at 0x2e031d56e80>,\n",
       " <shapely.geometry.polygon.Polygon at 0x2e031d56af0>,\n",
       " <shapely.geometry.polygon.Polygon at 0x2e031d56fa0>,\n",
       " <shapely.geometry.polygon.Polygon at 0x2e031d562b0>,\n",
       " <shapely.geometry.polygon.Polygon at 0x2e031d567c0>,\n",
       " <shapely.geometry.polygon.Polygon at 0x2e031d56f10>,\n",
       " <shapely.geometry.polygon.Polygon at 0x2e031d56fd0>]"
      ]
     },
     "execution_count": 4,
     "metadata": {},
     "output_type": "execute_result"
    }
   ],
   "source": [
    "graph_boundary"
   ]
  },
  {
   "cell_type": "code",
   "execution_count": null,
   "id": "gross-sheriff",
   "metadata": {},
   "outputs": [],
   "source": [
    "download_data.download_graphs(graph_boundary, fn=f\"data/osmnx/{region}\")"
   ]
  },
  {
   "cell_type": "markdown",
   "id": "blessed-envelope",
   "metadata": {},
   "source": [
    "## Analyse"
   ]
  },
  {
   "cell_type": "code",
   "execution_count": null,
   "id": "described-cloud",
   "metadata": {},
   "outputs": [],
   "source": [
    "analysis.analyse_batch(row_data=f\"data/row/{region}\", public_data=f\"data/public/{region}\", graph_boundary=graph_boundary, out_fn=f\"output/{region}\")\n",
    "#initially, to check everything works, just take e.g. graph_boundary[\"geometry\"][1] as bbox and run full analysis consisting of:\n",
    "# - bound row and public using contains_points\n",
    "# - interpolate ONLY public\n",
    "# - get appropriate graph\n",
    "# - do matching\n",
    "# - do joining + clean\n",
    "# - output graph output + save\n",
    "\n",
    "# - at the end take all outputs and merge"
   ]
  },
  {
   "cell_type": "code",
   "execution_count": null,
   "id": "identical-producer",
   "metadata": {},
   "outputs": [],
   "source": []
  },
  {
   "cell_type": "code",
   "execution_count": null,
   "id": "limiting-plastic",
   "metadata": {},
   "outputs": [],
   "source": []
  },
  {
   "cell_type": "code",
   "execution_count": null,
   "id": "shared-length",
   "metadata": {},
   "outputs": [],
   "source": []
  }
 ],
 "metadata": {
  "kernelspec": {
   "display_name": "Python 3",
   "language": "python",
   "name": "python3"
  },
  "language_info": {
   "codemirror_mode": {
    "name": "ipython",
    "version": 3
   },
   "file_extension": ".py",
   "mimetype": "text/x-python",
   "name": "python",
   "nbconvert_exporter": "python",
   "pygments_lexer": "ipython3",
   "version": "3.8.7"
  }
 },
 "nbformat": 4,
 "nbformat_minor": 5
}
