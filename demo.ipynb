{
 "cells": [
  {
   "cell_type": "code",
   "execution_count": 1,
   "id": "standing-receipt",
   "metadata": {},
   "outputs": [],
   "source": [
    "import download_data, analysis"
   ]
  },
  {
   "cell_type": "code",
   "execution_count": 2,
   "id": "static-upper",
   "metadata": {},
   "outputs": [],
   "source": [
    "# EAST OF ENGLAND available RoW data\n",
    "authorities = [\n",
    "    \"Cambridgeshire, UK\",\n",
    "    \"City of Peterborough, UK\",\n",
    "    \"Norfolk, UK\",\n",
    "    \"Suffolk, UK\",\n",
    "    \"Essex, UK\",\n",
    "    \"Thurrock, UK\",\n",
    "    \"Hertfordshire, UK\",\n",
    "    \"Central Bedfordshire, UK\",\n",
    "    \"Bedford, UK\"\n",
    "]\n",
    "authorities = [\n",
    "    \"Bedford, UK\"\n",
    "]\n",
    "region = \"east-of-england\""
   ]
  },
  {
   "cell_type": "markdown",
   "id": "former-playback",
   "metadata": {},
   "source": [
    "## Download RoW data"
   ]
  },
  {
   "cell_type": "code",
   "execution_count": null,
   "id": "aggregate-advice",
   "metadata": {},
   "outputs": [],
   "source": [
    "download_data.download_row_data(authorities, fn=f\"data/row/{region}\") #download all places mentioned, merge, convert to csv, INTERPOLATE w/o segmentation, and save as csv"
   ]
  },
  {
   "cell_type": "markdown",
   "id": "regular-positive",
   "metadata": {},
   "source": [
    "## Download public GPS data"
   ]
  },
  {
   "cell_type": "code",
   "execution_count": 3,
   "id": "destroyed-priority",
   "metadata": {},
   "outputs": [
    {
     "name": "stdout",
     "output_type": "stream",
     "text": [
      "Downloading to data/public/east-of-england.csv...\n",
      "Converting...\n"
     ]
    },
    {
     "name": "stderr",
     "output_type": "stream",
     "text": [
      "8829it [1:05:23,  2.25it/s]\n"
     ]
    },
    {
     "name": "stdout",
     "output_type": "stream",
     "text": [
      "Done\n"
     ]
    }
   ],
   "source": [
    "download_data.download_public_gps_data(region, fn=f\"data/public/{region}\") #existing pull from website and convert"
   ]
  },
  {
   "cell_type": "markdown",
   "id": "royal-savage",
   "metadata": {},
   "source": [
    "## Download graph data"
   ]
  },
  {
   "cell_type": "code",
   "execution_count": null,
   "id": "weekly-comparative",
   "metadata": {},
   "outputs": [],
   "source": [
    "graph_boundary = download_data.get_graph_boundary(authorities) #cells/multipolygonh"
   ]
  },
  {
   "cell_type": "code",
   "execution_count": null,
   "id": "artificial-denmark",
   "metadata": {},
   "outputs": [],
   "source": [
    "download_data.download_graphs(graph_boundary, fn=f\"data/osmnx/{region}\")"
   ]
  },
  {
   "cell_type": "markdown",
   "id": "wound-inquiry",
   "metadata": {},
   "source": [
    "## Analyse"
   ]
  },
  {
   "cell_type": "code",
   "execution_count": null,
   "id": "turned-cookbook",
   "metadata": {},
   "outputs": [],
   "source": [
    "analysis.analyse_batch(row_data=f\"data/row/{region}\", public_data=f\"data/public/{region}\", graph_boundary=graph_boundary, out_fn=f\"output/{region}\")\n",
    "#initially, to check everything works, just take e.g. graph_boundary[\"geometry\"][1] as bbox and run full analysis consisting of:\n",
    "# - bound row and public using contains_points\n",
    "# - interpolate ONLY public\n",
    "# - get appropriate graph\n",
    "# - do matching\n",
    "# - do joining + clean\n",
    "# - output graph output + save\n",
    "\n",
    "# - at the end take all outputs and merge"
   ]
  },
  {
   "cell_type": "code",
   "execution_count": null,
   "id": "foreign-crash",
   "metadata": {},
   "outputs": [],
   "source": []
  },
  {
   "cell_type": "code",
   "execution_count": null,
   "id": "complicated-refund",
   "metadata": {},
   "outputs": [],
   "source": []
  },
  {
   "cell_type": "code",
   "execution_count": null,
   "id": "worse-radar",
   "metadata": {},
   "outputs": [],
   "source": []
  }
 ],
 "metadata": {
  "kernelspec": {
   "display_name": "Python 3",
   "language": "python",
   "name": "python3"
  },
  "language_info": {
   "codemirror_mode": {
    "name": "ipython",
    "version": 3
   },
   "file_extension": ".py",
   "mimetype": "text/x-python",
   "name": "python",
   "nbconvert_exporter": "python",
   "pygments_lexer": "ipython3",
   "version": "3.8.7"
  }
 },
 "nbformat": 4,
 "nbformat_minor": 5
}
