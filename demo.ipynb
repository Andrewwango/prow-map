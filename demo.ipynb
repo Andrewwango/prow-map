{
 "cells": [
  {
   "cell_type": "code",
   "execution_count": null,
   "id": "affecting-valve",
   "metadata": {},
   "outputs": [],
   "source": [
    "import download_data, analysis"
   ]
  },
  {
   "cell_type": "code",
   "execution_count": null,
   "id": "quiet-grade",
   "metadata": {},
   "outputs": [],
   "source": [
    "# EAST OF ENGLAND available RoW data\n",
    "authorities = [\n",
    "    \"Cambridgeshire, UK\",\n",
    "    \"City of Peterborough, UK\",\n",
    "    \"Norfolk, UK\",\n",
    "    \"Suffolk, UK\",\n",
    "    \"Essex, UK\",\n",
    "    \"Thurrock, UK\",\n",
    "    \"Hertfordshire, UK\",\n",
    "    \"Central Bedfordshire, UK\",\n",
    "    \"Bedford, UK\"\n",
    "]\n",
    "authorities = [\n",
    "    \"Bedford, UK\"\n",
    "]\n",
    "region = \"east-of-england\""
   ]
  },
  {
   "cell_type": "markdown",
   "id": "artificial-bennett",
   "metadata": {},
   "source": [
    "## Download RoW data"
   ]
  },
  {
   "cell_type": "code",
   "execution_count": null,
   "id": "medieval-branch",
   "metadata": {},
   "outputs": [],
   "source": [
    "download_data.download_row_data(authorities, fn=f\"data/row/{region}\") #download all places mentioned, merge, convert to csv and save as csv"
   ]
  },
  {
   "cell_type": "markdown",
   "id": "australian-tension",
   "metadata": {},
   "source": [
    "## Download public GPS data"
   ]
  },
  {
   "cell_type": "code",
   "execution_count": null,
   "id": "internal-qualification",
   "metadata": {},
   "outputs": [],
   "source": [
    "download_data.download_public_gps_data(region, fn=f\"data/public/{region}\") #existing pull from website and convert"
   ]
  },
  {
   "cell_type": "markdown",
   "id": "weekly-tissue",
   "metadata": {},
   "source": [
    "## Download graph data"
   ]
  },
  {
   "cell_type": "code",
   "execution_count": null,
   "id": "disturbed-radius",
   "metadata": {},
   "outputs": [],
   "source": [
    "graph_boundary = download_data.get_graph_boundary(authorities) #cells/multipolygonh"
   ]
  },
  {
   "cell_type": "code",
   "execution_count": null,
   "id": "average-suggestion",
   "metadata": {},
   "outputs": [],
   "source": [
    "download_data.download_graphs(graph_boundary, fn=f\"data/osmnx/{region}\")"
   ]
  },
  {
   "cell_type": "markdown",
   "id": "ambient-latvia",
   "metadata": {},
   "source": [
    "## Analyse"
   ]
  },
  {
   "cell_type": "code",
   "execution_count": null,
   "id": "congressional-internet",
   "metadata": {},
   "outputs": [],
   "source": []
  },
  {
   "cell_type": "code",
   "execution_count": null,
   "id": "velvet-finland",
   "metadata": {},
   "outputs": [],
   "source": []
  },
  {
   "cell_type": "code",
   "execution_count": null,
   "id": "anonymous-citizen",
   "metadata": {},
   "outputs": [],
   "source": []
  },
  {
   "cell_type": "code",
   "execution_count": null,
   "id": "micro-fireplace",
   "metadata": {},
   "outputs": [],
   "source": []
  }
 ],
 "metadata": {
  "kernelspec": {
   "display_name": "Python 3",
   "language": "python",
   "name": "python3"
  },
  "language_info": {
   "codemirror_mode": {
    "name": "ipython",
    "version": 3
   },
   "file_extension": ".py",
   "mimetype": "text/x-python",
   "name": "python",
   "nbconvert_exporter": "python",
   "pygments_lexer": "ipython3",
   "version": "3.8.7"
  }
 },
 "nbformat": 4,
 "nbformat_minor": 5
}
