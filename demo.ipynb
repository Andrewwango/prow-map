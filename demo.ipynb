{
 "cells": [
  {
   "cell_type": "markdown",
   "id": "47bc5be4-a31d-4129-b817-53aef2defc22",
   "metadata": {
    "tags": []
   },
   "source": [
    "# Demo notebook for running PRoW analysis"
   ]
  },
  {
   "cell_type": "code",
   "execution_count": 1,
   "id": "974e03d6-ebb6-48d5-bd50-f1d1ad03a33e",
   "metadata": {},
   "outputs": [],
   "source": [
    "from prow import batch_prow_analyse_authorities, compose_graphs_plot_folium"
   ]
  },
  {
   "cell_type": "markdown",
   "id": "a2af076f-055b-4a44-89de-f540441f9d46",
   "metadata": {},
   "source": [
    "Authorities should be listed with both their [full names](https://www.rowmaps.com/datasets/) and their [region names](http://zverik.openstreetmap.ru/gps/files/extracts/europe/great_britain)."
   ]
  },
  {
   "cell_type": "code",
   "execution_count": 2,
   "id": "0a795940-df75-4ad5-8ebe-820c6c18e180",
   "metadata": {},
   "outputs": [],
   "source": [
    "authorities = [\n",
    "    [\"Cambridgeshire, UK\", \"east-of-england\"],\n",
    "    [\"City of Peterborough, UK\", \"east-of-england\"],\n",
    "    [\"Norfolk, UK\", \"east-of-england\"],\n",
    "    [\"Suffolk, UK\", \"east-of-england\"],\n",
    "    [\"Essex, UK\", \"east-of-england\"],\n",
    "    [\"Thurrock, UK\", \"east-of-england\"],\n",
    "    [\"Hertfordshire, UK\", \"east-of-england\"],\n",
    "    [\"Central Bedfordshire, UK\", \"east-of-england\"],\n",
    "    [\"Bedford, UK\" \"east-of-england\"]\n",
    "]\n",
    "authorities = [\n",
    "    [\"Bedford, UK\", \"east-of-england\"],\n",
    "    [\"Central Bedfordshire, UK\", \"east-of-england\"]\n",
    "]"
   ]
  },
  {
   "cell_type": "markdown",
   "id": "e9c3bfa4-fccd-4a8c-b7d7-87df89881663",
   "metadata": {},
   "source": [
    "The following function downloads all the necessary data, runs analysis and outputs appropriate graphs. For explanations of outputs see code"
   ]
  },
  {
   "cell_type": "code",
   "execution_count": null,
   "id": "4d2248a2-8e1a-4ab2-8a00-e86f39fb48f5",
   "metadata": {},
   "outputs": [],
   "source": [
    "batch_prow_analyse_authorities(authorities)"
   ]
  },
  {
   "cell_type": "markdown",
   "id": "476482cc-c28d-41b2-a7a5-250c3900a31e",
   "metadata": {},
   "source": [
    "Plot and save HTML map for example analysis: Bedford + Central Bedfordshire, public activity but not right of way:"
   ]
  },
  {
   "cell_type": "code",
   "execution_count": 2,
   "id": "9851941e-817f-461c-b0f6-011dfec7a6ef",
   "metadata": {},
   "outputs": [],
   "source": [
    "compose_graphs_plot_folium([\"BF_P\", \"BK_P\"], \"output\", \"output/Beds_P\")"
   ]
  },
  {
   "cell_type": "markdown",
   "id": "4dd53fa4-b12e-42f9-af94-c5633961b586",
   "metadata": {},
   "source": [
    "For [earth.org](https://earth.org/data_visualization/uk-land-access-rights/) article, plot both the above with activity colour gradient and rights of way in black"
   ]
  },
  {
   "cell_type": "code",
   "execution_count": 2,
   "id": "aea44a40-0181-4303-b976-d88122f77de9",
   "metadata": {},
   "outputs": [],
   "source": [
    "def _set_activity_negative(edges):\n",
    "    edges[\"activity\"] = -1\n",
    "    return edges"
   ]
  },
  {
   "cell_type": "code",
   "execution_count": 3,
   "id": "8fe55da7-806b-48a0-b65b-c7e036893e48",
   "metadata": {},
   "outputs": [],
   "source": [
    "compose_graphs_plot_folium([\n",
    "    \"BF_P\", \"BK_P\", \"BF_B\", \"BK_B\"], \"output\", \"output/Beds_EO\",\n",
    "    graph_edge_funcs=[None, None, _set_activity_negative, _set_activity_negative]\n",
    ")"
   ]
  },
  {
   "cell_type": "markdown",
   "id": "cd8d44c0",
   "metadata": {},
   "source": [
    "For plotting later in Javascript, get a clean list of edges:"
   ]
  },
  {
   "cell_type": "code",
   "execution_count": 3,
   "id": "61547429",
   "metadata": {},
   "outputs": [],
   "source": [
    "compose_graphs_plot_folium([\n",
    "    \"BF_P\", \"BK_P\", \"BF_B\", \"BK_B\"], \"output\", \"output/Beds_EO\",\n",
    "    graph_edge_funcs=[None, None, _set_activity_negative, _set_activity_negative],\n",
    "    clean_edge_list=True\n",
    ")"
   ]
  },
  {
   "cell_type": "code",
   "execution_count": null,
   "id": "b5bdcb92",
   "metadata": {},
   "outputs": [],
   "source": []
  }
 ],
 "metadata": {
  "kernelspec": {
   "display_name": "Python 3.10.6 ('prow-ml')",
   "language": "python",
   "name": "python3"
  },
  "language_info": {
   "codemirror_mode": {
    "name": "ipython",
    "version": 3
   },
   "file_extension": ".py",
   "mimetype": "text/x-python",
   "name": "python",
   "nbconvert_exporter": "python",
   "pygments_lexer": "ipython3",
   "version": "3.11.5"
  },
  "vscode": {
   "interpreter": {
    "hash": "43d37dbf427a23a3a00b3e9a97e361e1da8089cf81f1d817805efd5f0903e920"
   }
  }
 },
 "nbformat": 4,
 "nbformat_minor": 5
}
